{
 "cells": [
  {
   "cell_type": "code",
   "execution_count": 2,
   "metadata": {
    "collapsed": false
   },
   "outputs": [
    {
     "name": "stderr",
     "output_type": "stream",
     "text": [
      "/Users/Marina/anaconda/lib/python2.7/site-packages/sklearn/cross_validation.py:44: DeprecationWarning: This module was deprecated in version 0.18 in favor of the model_selection module into which all the refactored classes and functions are moved. Also note that the interface of the new CV iterators are different from that of this module. This module will be removed in 0.20.\n",
      "  \"This module will be removed in 0.20.\", DeprecationWarning)\n",
      "/Users/Marina/anaconda/lib/python2.7/site-packages/sklearn/grid_search.py:43: DeprecationWarning: This module was deprecated in version 0.18 in favor of the model_selection module into which all the refactored classes and functions are moved. This module will be removed in 0.20.\n",
      "  DeprecationWarning)\n"
     ]
    }
   ],
   "source": [
    "import pandas as pd\n",
    "from sklearn import metrics\n",
    "import matplotlib.pyplot as plt\n",
    "%matplotlib inline\n",
    "import numpy as np\n",
    "import sklearn\n",
    "import seaborn as sns\n",
    "import patsy\n",
    "from sklearn.preprocessing import StandardScaler\n",
    "from sklearn.cross_validation import train_test_split, cross_val_score\n",
    "from sklearn.linear_model import LogisticRegression, LogisticRegressionCV\n",
    "from sklearn.grid_search import GridSearchCV\n",
    "from sklearn import preprocessing\n",
    "from sklearn.linear_model import LogisticRegression\n",
    "from sklearn.cross_validation import cross_val_score, StratifiedKFold\n",
    "from sklearn.tree import DecisionTreeClassifier\n",
    "from sklearn.ensemble import RandomForestClassifier, ExtraTreesClassifier, BaggingClassifier\n",
    "from sklearn.metrics import accuracy_score, confusion_matrix, classification_report\n",
    "from sklearn.cross_validation import cross_val_score\n",
    "from sklearn.cross_validation import train_test_split\n",
    "\n",
    "from sklearn.metrics import roc_auc_score\n",
    "from sklearn.metrics import roc_curve\n",
    "from sklearn.metrics import auc\n",
    "from sklearn.cross_validation import cross_val_predict\n",
    "\n",
    "import statsmodels.api as sm"
   ]
  },
  {
   "cell_type": "code",
   "execution_count": 3,
   "metadata": {
    "collapsed": false
   },
   "outputs": [],
   "source": [
    "df=pd.read_csv('/Users/Marina/Documents/GA Data Science/projects/projects-capstone/clean_data.csv')"
   ]
  },
  {
   "cell_type": "code",
   "execution_count": 4,
   "metadata": {
    "collapsed": false
   },
   "outputs": [],
   "source": [
    "df_male=df.loc[df['gender'] == \"Male\"]"
   ]
  },
  {
   "cell_type": "code",
   "execution_count": 5,
   "metadata": {
    "collapsed": false
   },
   "outputs": [
    {
     "data": {
      "text/plain": [
       "2732"
      ]
     },
     "execution_count": 5,
     "metadata": {},
     "output_type": "execute_result"
    }
   ],
   "source": [
    "col_male=['attr_o','like_o','pf_o_int','round','pf_o_att','prob_o','shar_o','fun_o','fun1_1','sinc_o','amb_o',\\\n",
    "          'shar1_1','age_o','pf_o_fun','pf_o_amb','pf_o_sin','pf_o_sha','date','met_o','fun2_1']\n",
    "\n",
    "\n",
    "data_male=df_male[col_male]\n",
    "len(data_male)\n",
    "\n",
    "# EXCLUDED attr1_1,imprace,intel2_1"
   ]
  },
  {
   "cell_type": "code",
   "execution_count": 6,
   "metadata": {
    "collapsed": false
   },
   "outputs": [],
   "source": [
    "# col_male=['attr_o', 'like_o','fun_o','prob_o','shar_o','attr1_1','pf_o_int','amb_o','date','pf_o_att','fun1_1','movies',\\\n",
    "#          'met_o','sinc_o','round','age_o']\n",
    "\n",
    "# data_male=df_male[col_male]\n",
    "# len(data_male)"
   ]
  },
  {
   "cell_type": "code",
   "execution_count": 7,
   "metadata": {
    "collapsed": false
   },
   "outputs": [
    {
     "name": "stdout",
     "output_type": "stream",
     "text": [
      "<class 'pandas.core.frame.DataFrame'>\n",
      "RangeIndex: 2732 entries, 0 to 2731\n",
      "Data columns (total 20 columns):\n",
      "attr_o      2732 non-null float64\n",
      "like_o      2732 non-null float64\n",
      "pf_o_int    2732 non-null float64\n",
      "round       2732 non-null float64\n",
      "pf_o_att    2732 non-null float64\n",
      "prob_o      2732 non-null float64\n",
      "shar_o      2732 non-null float64\n",
      "fun_o       2732 non-null float64\n",
      "fun1_1      2732 non-null float64\n",
      "sinc_o      2732 non-null float64\n",
      "amb_o       2732 non-null float64\n",
      "shar1_1     2732 non-null float64\n",
      "age_o       2732 non-null float64\n",
      "pf_o_fun    2732 non-null float64\n",
      "pf_o_amb    2732 non-null float64\n",
      "pf_o_sin    2732 non-null float64\n",
      "pf_o_sha    2732 non-null float64\n",
      "date        2732 non-null float64\n",
      "met_o       2732 non-null float64\n",
      "fun2_1      2732 non-null float64\n",
      "dtypes: float64(20)\n",
      "memory usage: 426.9 KB\n"
     ]
    }
   ],
   "source": [
    "from sklearn.preprocessing import StandardScaler\n",
    "x=data_male\n",
    "\n",
    "X_norm =  StandardScaler().fit_transform(x);\n",
    "\n",
    "df_stand=pd.DataFrame(X_norm, columns=data_male.columns)\n",
    "df_stand.info()"
   ]
  },
  {
   "cell_type": "code",
   "execution_count": 8,
   "metadata": {
    "collapsed": false
   },
   "outputs": [
    {
     "data": {
      "text/plain": [
       "2732"
      ]
     },
     "execution_count": 8,
     "metadata": {},
     "output_type": "execute_result"
    }
   ],
   "source": [
    "categ_male= ['dec']\n",
    "df_male_cat=df_male[categ_male]\n",
    "\n",
    "len(df_male_cat)\n"
   ]
  },
  {
   "cell_type": "code",
   "execution_count": 9,
   "metadata": {
    "collapsed": false
   },
   "outputs": [
    {
     "data": {
      "text/html": [
       "<div>\n",
       "<table border=\"1\" class=\"dataframe\">\n",
       "  <thead>\n",
       "    <tr style=\"text-align: right;\">\n",
       "      <th></th>\n",
       "      <th>Intercept</th>\n",
       "      <th>C(dec)[T.1]</th>\n",
       "    </tr>\n",
       "  </thead>\n",
       "  <tbody>\n",
       "    <tr>\n",
       "      <th>0</th>\n",
       "      <td>1.0</td>\n",
       "      <td>0.0</td>\n",
       "    </tr>\n",
       "    <tr>\n",
       "      <th>1</th>\n",
       "      <td>1.0</td>\n",
       "      <td>0.0</td>\n",
       "    </tr>\n",
       "    <tr>\n",
       "      <th>2</th>\n",
       "      <td>1.0</td>\n",
       "      <td>0.0</td>\n",
       "    </tr>\n",
       "    <tr>\n",
       "      <th>3</th>\n",
       "      <td>1.0</td>\n",
       "      <td>0.0</td>\n",
       "    </tr>\n",
       "    <tr>\n",
       "      <th>4</th>\n",
       "      <td>1.0</td>\n",
       "      <td>0.0</td>\n",
       "    </tr>\n",
       "  </tbody>\n",
       "</table>\n",
       "</div>"
      ],
      "text/plain": [
       "   Intercept  C(dec)[T.1]\n",
       "0        1.0          0.0\n",
       "1        1.0          0.0\n",
       "2        1.0          0.0\n",
       "3        1.0          0.0\n",
       "4        1.0          0.0"
      ]
     },
     "execution_count": 9,
     "metadata": {},
     "output_type": "execute_result"
    }
   ],
   "source": [
    "X = patsy.dmatrix('~ C(dec)', df_male_cat)\n",
    "\n",
    "df_cat=pd.DataFrame(X, columns=X.design_info.column_names)\n",
    "df_cat.head()"
   ]
  },
  {
   "cell_type": "code",
   "execution_count": 10,
   "metadata": {
    "collapsed": false
   },
   "outputs": [
    {
     "data": {
      "text/plain": [
       "2732"
      ]
     },
     "execution_count": 10,
     "metadata": {},
     "output_type": "execute_result"
    }
   ],
   "source": [
    "df_male_final = pd.concat([df_cat, df_stand], axis=1)\n",
    "len(df_male_final)"
   ]
  },
  {
   "cell_type": "code",
   "execution_count": 11,
   "metadata": {
    "collapsed": false
   },
   "outputs": [
    {
     "data": {
      "text/plain": [
       "array([0, 0, 0, ..., 0, 0, 0])"
      ]
     },
     "execution_count": 11,
     "metadata": {},
     "output_type": "execute_result"
    }
   ],
   "source": [
    "y_male = df_male.match\n",
    "\n",
    "#y_male = y_male.map(lambda x: 'no' if x ==0 else 'yes')\n",
    "\n",
    "y_male = y_male.values\n",
    "\n",
    "y_male"
   ]
  },
  {
   "cell_type": "code",
   "execution_count": 12,
   "metadata": {
    "collapsed": false
   },
   "outputs": [],
   "source": [
    "X_male=df_male_final"
   ]
  },
  {
   "cell_type": "code",
   "execution_count": 13,
   "metadata": {
    "collapsed": false
   },
   "outputs": [
    {
     "data": {
      "text/plain": [
       "(2732, 22)"
      ]
     },
     "execution_count": 13,
     "metadata": {},
     "output_type": "execute_result"
    }
   ],
   "source": [
    "X_male.shape"
   ]
  },
  {
   "cell_type": "code",
   "execution_count": 14,
   "metadata": {
    "collapsed": false
   },
   "outputs": [
    {
     "name": "stdout",
     "output_type": "stream",
     "text": [
      "Warning: Maximum number of iterations has been exceeded.\n",
      "         Current function value: 0.208529\n",
      "         Iterations: 35\n"
     ]
    },
    {
     "name": "stderr",
     "output_type": "stream",
     "text": [
      "/Users/Marina/anaconda/lib/python2.7/site-packages/statsmodels/base/model.py:466: ConvergenceWarning: Maximum Likelihood optimization failed to converge. Check mle_retvals\n",
      "  \"Check mle_retvals\", ConvergenceWarning)\n"
     ]
    },
    {
     "data": {
      "text/html": [
       "<table class=\"simpletable\">\n",
       "<caption>Logit Regression Results</caption>\n",
       "<tr>\n",
       "  <th>Dep. Variable:</th>         <td>y</td>        <th>  No. Observations:  </th>   <td>  2732</td>  \n",
       "</tr>\n",
       "<tr>\n",
       "  <th>Model:</th>               <td>Logit</td>      <th>  Df Residuals:      </th>   <td>  2710</td>  \n",
       "</tr>\n",
       "<tr>\n",
       "  <th>Method:</th>               <td>MLE</td>       <th>  Df Model:          </th>   <td>    21</td>  \n",
       "</tr>\n",
       "<tr>\n",
       "  <th>Date:</th>          <td>Wed, 17 May 2017</td> <th>  Pseudo R-squ.:     </th>   <td>0.5503</td>  \n",
       "</tr>\n",
       "<tr>\n",
       "  <th>Time:</th>              <td>11:30:00</td>     <th>  Log-Likelihood:    </th>  <td> -569.70</td> \n",
       "</tr>\n",
       "<tr>\n",
       "  <th>converged:</th>           <td>False</td>      <th>  LL-Null:           </th>  <td> -1266.7</td> \n",
       "</tr>\n",
       "<tr>\n",
       "  <th> </th>                      <td> </td>        <th>  LLR p-value:       </th> <td>1.739e-282</td>\n",
       "</tr>\n",
       "</table>\n",
       "<table class=\"simpletable\">\n",
       "<tr>\n",
       "       <td></td>          <th>coef</th>     <th>std err</th>      <th>z</th>      <th>P>|z|</th> <th>[95.0% Conf. Int.]</th> \n",
       "</tr>\n",
       "<tr>\n",
       "  <th>Intercept</th>   <td>  -23.7669</td> <td> 1728.382</td> <td>   -0.014</td> <td> 0.989</td> <td>-3411.334  3363.800</td>\n",
       "</tr>\n",
       "<tr>\n",
       "  <th>C(dec)[T.1]</th> <td>   22.6927</td> <td> 1728.382</td> <td>    0.013</td> <td> 0.990</td> <td>-3364.874  3410.260</td>\n",
       "</tr>\n",
       "<tr>\n",
       "  <th>attr_o</th>      <td>    0.7657</td> <td>    0.108</td> <td>    7.106</td> <td> 0.000</td> <td>    0.555     0.977</td>\n",
       "</tr>\n",
       "<tr>\n",
       "  <th>like_o</th>      <td>    0.8472</td> <td>    0.146</td> <td>    5.808</td> <td> 0.000</td> <td>    0.561     1.133</td>\n",
       "</tr>\n",
       "<tr>\n",
       "  <th>pf_o_int</th>    <td>    0.4721</td> <td>    0.743</td> <td>    0.636</td> <td> 0.525</td> <td>   -0.984     1.928</td>\n",
       "</tr>\n",
       "<tr>\n",
       "  <th>round</th>       <td>    0.0221</td> <td>    0.075</td> <td>    0.293</td> <td> 0.769</td> <td>   -0.126     0.170</td>\n",
       "</tr>\n",
       "<tr>\n",
       "  <th>pf_o_att</th>    <td>    0.2824</td> <td>    1.001</td> <td>    0.282</td> <td> 0.778</td> <td>   -1.679     2.244</td>\n",
       "</tr>\n",
       "<tr>\n",
       "  <th>prob_o</th>      <td>    0.2840</td> <td>    0.092</td> <td>    3.087</td> <td> 0.002</td> <td>    0.104     0.464</td>\n",
       "</tr>\n",
       "<tr>\n",
       "  <th>shar_o</th>      <td>    0.4187</td> <td>    0.111</td> <td>    3.768</td> <td> 0.000</td> <td>    0.201     0.636</td>\n",
       "</tr>\n",
       "<tr>\n",
       "  <th>fun_o</th>       <td>    0.4152</td> <td>    0.123</td> <td>    3.362</td> <td> 0.001</td> <td>    0.173     0.657</td>\n",
       "</tr>\n",
       "<tr>\n",
       "  <th>fun1_1</th>      <td>    0.1166</td> <td>    0.082</td> <td>    1.419</td> <td> 0.156</td> <td>   -0.044     0.278</td>\n",
       "</tr>\n",
       "<tr>\n",
       "  <th>sinc_o</th>      <td>   -0.1449</td> <td>    0.106</td> <td>   -1.371</td> <td> 0.170</td> <td>   -0.352     0.062</td>\n",
       "</tr>\n",
       "<tr>\n",
       "  <th>amb_o</th>       <td>   -0.3553</td> <td>    0.106</td> <td>   -3.363</td> <td> 0.001</td> <td>   -0.562    -0.148</td>\n",
       "</tr>\n",
       "<tr>\n",
       "  <th>shar1_1</th>     <td>   -0.0799</td> <td>    0.077</td> <td>   -1.033</td> <td> 0.302</td> <td>   -0.232     0.072</td>\n",
       "</tr>\n",
       "<tr>\n",
       "  <th>age_o</th>       <td>   -0.1280</td> <td>    0.086</td> <td>   -1.491</td> <td> 0.136</td> <td>   -0.296     0.040</td>\n",
       "</tr>\n",
       "<tr>\n",
       "  <th>pf_o_fun</th>    <td>    0.3169</td> <td>    0.604</td> <td>    0.525</td> <td> 0.600</td> <td>   -0.867     1.501</td>\n",
       "</tr>\n",
       "<tr>\n",
       "  <th>pf_o_amb</th>    <td>    0.2399</td> <td>    0.615</td> <td>    0.390</td> <td> 0.697</td> <td>   -0.966     1.445</td>\n",
       "</tr>\n",
       "<tr>\n",
       "  <th>pf_o_sin</th>    <td>    0.4418</td> <td>    0.732</td> <td>    0.604</td> <td> 0.546</td> <td>   -0.993     1.876</td>\n",
       "</tr>\n",
       "<tr>\n",
       "  <th>pf_o_sha</th>    <td>    0.3768</td> <td>    0.625</td> <td>    0.603</td> <td> 0.547</td> <td>   -0.848     1.602</td>\n",
       "</tr>\n",
       "<tr>\n",
       "  <th>date</th>        <td>   -0.1444</td> <td>    0.075</td> <td>   -1.932</td> <td> 0.053</td> <td>   -0.291     0.002</td>\n",
       "</tr>\n",
       "<tr>\n",
       "  <th>met_o</th>       <td>   -0.0649</td> <td>    0.066</td> <td>   -0.987</td> <td> 0.324</td> <td>   -0.194     0.064</td>\n",
       "</tr>\n",
       "<tr>\n",
       "  <th>fun2_1</th>      <td>   -0.1792</td> <td>    0.084</td> <td>   -2.131</td> <td> 0.033</td> <td>   -0.344    -0.014</td>\n",
       "</tr>\n",
       "</table>"
      ],
      "text/plain": [
       "<class 'statsmodels.iolib.summary.Summary'>\n",
       "\"\"\"\n",
       "                           Logit Regression Results                           \n",
       "==============================================================================\n",
       "Dep. Variable:                      y   No. Observations:                 2732\n",
       "Model:                          Logit   Df Residuals:                     2710\n",
       "Method:                           MLE   Df Model:                           21\n",
       "Date:                Wed, 17 May 2017   Pseudo R-squ.:                  0.5503\n",
       "Time:                        11:30:00   Log-Likelihood:                -569.70\n",
       "converged:                      False   LL-Null:                       -1266.7\n",
       "                                        LLR p-value:                1.739e-282\n",
       "===============================================================================\n",
       "                  coef    std err          z      P>|z|      [95.0% Conf. Int.]\n",
       "-------------------------------------------------------------------------------\n",
       "Intercept     -23.7669   1728.382     -0.014      0.989     -3411.334  3363.800\n",
       "C(dec)[T.1]    22.6927   1728.382      0.013      0.990     -3364.874  3410.260\n",
       "attr_o          0.7657      0.108      7.106      0.000         0.555     0.977\n",
       "like_o          0.8472      0.146      5.808      0.000         0.561     1.133\n",
       "pf_o_int        0.4721      0.743      0.636      0.525        -0.984     1.928\n",
       "round           0.0221      0.075      0.293      0.769        -0.126     0.170\n",
       "pf_o_att        0.2824      1.001      0.282      0.778        -1.679     2.244\n",
       "prob_o          0.2840      0.092      3.087      0.002         0.104     0.464\n",
       "shar_o          0.4187      0.111      3.768      0.000         0.201     0.636\n",
       "fun_o           0.4152      0.123      3.362      0.001         0.173     0.657\n",
       "fun1_1          0.1166      0.082      1.419      0.156        -0.044     0.278\n",
       "sinc_o         -0.1449      0.106     -1.371      0.170        -0.352     0.062\n",
       "amb_o          -0.3553      0.106     -3.363      0.001        -0.562    -0.148\n",
       "shar1_1        -0.0799      0.077     -1.033      0.302        -0.232     0.072\n",
       "age_o          -0.1280      0.086     -1.491      0.136        -0.296     0.040\n",
       "pf_o_fun        0.3169      0.604      0.525      0.600        -0.867     1.501\n",
       "pf_o_amb        0.2399      0.615      0.390      0.697        -0.966     1.445\n",
       "pf_o_sin        0.4418      0.732      0.604      0.546        -0.993     1.876\n",
       "pf_o_sha        0.3768      0.625      0.603      0.547        -0.848     1.602\n",
       "date           -0.1444      0.075     -1.932      0.053        -0.291     0.002\n",
       "met_o          -0.0649      0.066     -0.987      0.324        -0.194     0.064\n",
       "fun2_1         -0.1792      0.084     -2.131      0.033        -0.344    -0.014\n",
       "===============================================================================\n",
       "\"\"\""
      ]
     },
     "execution_count": 14,
     "metadata": {},
     "output_type": "execute_result"
    }
   ],
   "source": [
    "logit = sm.Logit(y_male, X_male)\n",
    "\n",
    "result = logit.fit()\n",
    "\n",
    "result.summary()"
   ]
  },
  {
   "cell_type": "code",
   "execution_count": null,
   "metadata": {
    "collapsed": true
   },
   "outputs": [],
   "source": []
  }
 ],
 "metadata": {
  "anaconda-cloud": {},
  "kernelspec": {
   "display_name": "Python [Root]",
   "language": "python",
   "name": "Python [Root]"
  },
  "language_info": {
   "codemirror_mode": {
    "name": "ipython",
    "version": 2
   },
   "file_extension": ".py",
   "mimetype": "text/x-python",
   "name": "python",
   "nbconvert_exporter": "python",
   "pygments_lexer": "ipython2",
   "version": "2.7.12"
  }
 },
 "nbformat": 4,
 "nbformat_minor": 0
}
