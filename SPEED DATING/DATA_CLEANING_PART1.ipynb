{
 "cells": [
  {
   "cell_type": "code",
   "execution_count": 2,
   "metadata": {
    "collapsed": true
   },
   "outputs": [],
   "source": [
    "import pandas as pd\n",
    "import matplotlib.pyplot as plt\n",
    "%matplotlib inline\n",
    "import numpy as np\n",
    "import statsmodels.api as sm\n",
    "import statsmodels.formula.api as smf\n",
    "from sklearn import datasets, linear_model\n",
    "from sklearn.metrics import mean_squared_error\n",
    "import numpy as np\n",
    "import pandas as pd\n",
    "import patsy\n",
    "import numpy as np\n",
    "import pandas as pd\n",
    "import matplotlib.pyplot as plt\n",
    "%matplotlib inline\n",
    "import seaborn as sns\n",
    "\n"
   ]
  },
  {
   "cell_type": "markdown",
   "metadata": {},
   "source": [
    "For my final project, I’ve selected the data from the Kaggle Speed Dating Experiment. \n",
    "\n",
    "https://www.kaggle.com/annavictoria/speed-dating-experiment\n",
    "\n",
    "This data “was gathered from participants in experimental speed dating events from 2002-2004. During the events, the attendees would have a four minute \"first date\" with every other participant of the opposite sex. At the end of their four minutes, participants were asked if they would like to see their date again. They were also asked to rate their date on six attributes: Attractiveness, Sincerity, Intelligence, Fun, Ambition, and Shared Interests.”\n",
    "\n",
    "“The dataset also includes questionnaire data gathered from participants at different points in the process. These fields include: demographics, dating habits, self-perception across key attributes, beliefs on what others find valuable in a mate, and lifestyle information. See the Speed Dating Data Key document below for details.”\n",
    "\n",
    "My hypothesis was to find out whether participants would leave speed dating event with a match. Because of gender differences in partner selection (please see my EDA and scientific literature on attraction), my decision was to build two models: model for males and model for females with dependent variable \"match.” First model was predicting a match for females while second model was predicting a match for males. \n",
    "\n",
    "\n",
    "“The dataset also includes questionnaire data gathered from participants at different points in the process. These fields include: demographics, dating habits, self-perception across key attributes, beliefs on what others find valuable in a mate, and lifestyle information. See the Speed Dating Data Key document below for details.”\n",
    "\n",
    "The features were assessed at Time 1 (before and right after participating in the event), Time 2 (the day after participating in the event), and Time 3 (3-4 weeks after participating in the event). I only used data from Time 1 since it was relevant to my model, and I wanted to predict the probability of leaving the event with a match. My project has 4 parts:\n",
    "\n",
    "Part 1. Data Cleaning\n",
    "\n",
    "Part 2. EDA\n",
    "\n",
    "Part 3. Feature selection\n",
    "\n",
    "Part 4. Model selection\n",
    "\n"
   ]
  },
  {
   "cell_type": "markdown",
   "metadata": {},
   "source": [
    "# PART 1. DATA CLEANING "
   ]
  },
  {
   "cell_type": "code",
   "execution_count": 3,
   "metadata": {
    "collapsed": false
   },
   "outputs": [],
   "source": [
    "df=pd.read_csv('/Users/Marina/Documents/GA Data Science/projects/projects-capstone/speed_dating_data.csv')"
   ]
  },
  {
   "cell_type": "code",
   "execution_count": 9,
   "metadata": {
    "collapsed": false
   },
   "outputs": [
    {
     "name": "stdout",
     "output_type": "stream",
     "text": [
      "<class 'pandas.core.frame.DataFrame'>\n",
      "RangeIndex: 8378 entries, 0 to 8377\n",
      "Data columns (total 98 columns):\n",
      "iid         8378 non-null int64\n",
      "id          8377 non-null float64\n",
      "gender      8378 non-null int64\n",
      "idg         8378 non-null int64\n",
      "condtn      8378 non-null int64\n",
      "wave        8378 non-null int64\n",
      "round       8378 non-null int64\n",
      "position    8378 non-null int64\n",
      "positin1    6532 non-null float64\n",
      "order       8378 non-null int64\n",
      "partner     8378 non-null int64\n",
      "pid         8368 non-null float64\n",
      "match       8378 non-null int64\n",
      "int_corr    8220 non-null float64\n",
      "samerace    8378 non-null int64\n",
      "age_o       8274 non-null float64\n",
      "race_o      8305 non-null float64\n",
      "pf_o_att    8289 non-null float64\n",
      "pf_o_sin    8289 non-null float64\n",
      "pf_o_int    8289 non-null float64\n",
      "pf_o_fun    8280 non-null float64\n",
      "pf_o_amb    8271 non-null float64\n",
      "pf_o_sha    8249 non-null float64\n",
      "dec_o       8378 non-null int64\n",
      "attr_o      8166 non-null float64\n",
      "sinc_o      8091 non-null float64\n",
      "intel_o     8072 non-null float64\n",
      "fun_o       8018 non-null float64\n",
      "amb_o       7656 non-null float64\n",
      "shar_o      7302 non-null float64\n",
      "like_o      8128 non-null float64\n",
      "prob_o      8060 non-null float64\n",
      "met_o       7993 non-null float64\n",
      "age         8283 non-null float64\n",
      "field       8315 non-null object\n",
      "field_cd    8296 non-null float64\n",
      "undergra    4914 non-null object\n",
      "mn_sat      3133 non-null object\n",
      "tuition     3583 non-null object\n",
      "race        8315 non-null float64\n",
      "imprace     8299 non-null float64\n",
      "imprelig    8299 non-null float64\n",
      "from        8299 non-null object\n",
      "zipcode     7314 non-null object\n",
      "income      4279 non-null object\n",
      "goal        8299 non-null float64\n",
      "date        8281 non-null float64\n",
      "go_out      8299 non-null float64\n",
      "career      8289 non-null object\n",
      "career_c    8240 non-null float64\n",
      "sports      8299 non-null float64\n",
      "tvsports    8299 non-null float64\n",
      "exercise    8299 non-null float64\n",
      "dining      8299 non-null float64\n",
      "museums     8299 non-null float64\n",
      "art         8299 non-null float64\n",
      "hiking      8299 non-null float64\n",
      "gaming      8299 non-null float64\n",
      "clubbing    8299 non-null float64\n",
      "reading     8299 non-null float64\n",
      "tv          8299 non-null float64\n",
      "theater     8299 non-null float64\n",
      "movies      8299 non-null float64\n",
      "concerts    8299 non-null float64\n",
      "music       8299 non-null float64\n",
      "shopping    8299 non-null float64\n",
      "yoga        8299 non-null float64\n",
      "exphappy    8277 non-null float64\n",
      "expnum      1800 non-null float64\n",
      "attr1_1     8299 non-null float64\n",
      "sinc1_1     8299 non-null float64\n",
      "intel1_1    8299 non-null float64\n",
      "fun1_1      8289 non-null float64\n",
      "amb1_1      8279 non-null float64\n",
      "shar1_1     8257 non-null float64\n",
      "attr4_1     6489 non-null float64\n",
      "sinc4_1     6489 non-null float64\n",
      "intel4_1    6489 non-null float64\n",
      "fun4_1      6489 non-null float64\n",
      "amb4_1      6489 non-null float64\n",
      "shar4_1     6467 non-null float64\n",
      "attr2_1     8299 non-null float64\n",
      "sinc2_1     8299 non-null float64\n",
      "intel2_1    8299 non-null float64\n",
      "fun2_1      8299 non-null float64\n",
      "amb2_1      8289 non-null float64\n",
      "shar2_1     8289 non-null float64\n",
      "attr3_1     8273 non-null float64\n",
      "sinc3_1     8273 non-null float64\n",
      "fun3_1      8273 non-null float64\n",
      "intel3_1    8273 non-null float64\n",
      "amb3_1      8273 non-null float64\n",
      "attr5_1     4906 non-null float64\n",
      "sinc5_1     4906 non-null float64\n",
      "intel5_1    4906 non-null float64\n",
      "fun5_1      4906 non-null float64\n",
      "amb5_1      4906 non-null float64\n",
      "dec         8378 non-null int64\n",
      "dtypes: float64(77), int64(13), object(8)\n",
      "memory usage: 6.3+ MB\n"
     ]
    }
   ],
   "source": [
    "df.info()"
   ]
  },
  {
   "cell_type": "markdown",
   "metadata": {
    "collapsed": false
   },
   "source": [
    "### 1). Dropping variables with many missing values:\n",
    "\n",
    "#### positin1 6532 non-null float64; \n",
    "#### undergra 4914 non-null object; \n",
    "#### mn_sat   3133 non-null object;\n",
    "#### tuition 3583 non-null object; \n",
    "#### income   4279 non-null object; \n",
    "#### expnum  1800 non-null float64; \n",
    "#### attr4_1     6489 non-null float64\n",
    "#### sinc4_1     6489 non-null float64\n",
    "#### intel4_1    6489 non-null float64\n",
    "#### fun4_1      6489 non-null float64\n",
    "#### amb4_1      6489 non-null float64\n",
    "#### shar4_1     6467 non-null float64\n",
    "#### attr5_1     4906 non-null float64\n",
    "#### sinc5_1     4906 non-null float64\n",
    "#### intel5_1    4906 non-null float64\n",
    "#### fun5_1      4906 non-null float64\n",
    "#### amb5_1      4906 non-null float64\n",
    "\n",
    "\n"
   ]
  },
  {
   "cell_type": "code",
   "execution_count": 10,
   "metadata": {
    "collapsed": false
   },
   "outputs": [],
   "source": [
    "\n",
    "\n",
    "df.drop(['positin1','undergra','mn_sat','tuition','income','expnum', 'attr4_1', 'sinc4_1','intel4_1','fun4_1','amb4_1','shar4_1','attr5_1', 'sinc5_1','intel5_1','fun5_1','amb5_1'], axis = 1, inplace=True)"
   ]
  },
  {
   "cell_type": "code",
   "execution_count": 11,
   "metadata": {
    "collapsed": false
   },
   "outputs": [
    {
     "name": "stdout",
     "output_type": "stream",
     "text": [
      "<class 'pandas.core.frame.DataFrame'>\n",
      "RangeIndex: 8378 entries, 0 to 8377\n",
      "Data columns (total 81 columns):\n",
      "iid         8378 non-null int64\n",
      "id          8377 non-null float64\n",
      "gender      8378 non-null int64\n",
      "idg         8378 non-null int64\n",
      "condtn      8378 non-null int64\n",
      "wave        8378 non-null int64\n",
      "round       8378 non-null int64\n",
      "position    8378 non-null int64\n",
      "order       8378 non-null int64\n",
      "partner     8378 non-null int64\n",
      "pid         8368 non-null float64\n",
      "match       8378 non-null int64\n",
      "int_corr    8220 non-null float64\n",
      "samerace    8378 non-null int64\n",
      "age_o       8274 non-null float64\n",
      "race_o      8305 non-null float64\n",
      "pf_o_att    8289 non-null float64\n",
      "pf_o_sin    8289 non-null float64\n",
      "pf_o_int    8289 non-null float64\n",
      "pf_o_fun    8280 non-null float64\n",
      "pf_o_amb    8271 non-null float64\n",
      "pf_o_sha    8249 non-null float64\n",
      "dec_o       8378 non-null int64\n",
      "attr_o      8166 non-null float64\n",
      "sinc_o      8091 non-null float64\n",
      "intel_o     8072 non-null float64\n",
      "fun_o       8018 non-null float64\n",
      "amb_o       7656 non-null float64\n",
      "shar_o      7302 non-null float64\n",
      "like_o      8128 non-null float64\n",
      "prob_o      8060 non-null float64\n",
      "met_o       7993 non-null float64\n",
      "age         8283 non-null float64\n",
      "field       8315 non-null object\n",
      "field_cd    8296 non-null float64\n",
      "race        8315 non-null float64\n",
      "imprace     8299 non-null float64\n",
      "imprelig    8299 non-null float64\n",
      "from        8299 non-null object\n",
      "zipcode     7314 non-null object\n",
      "goal        8299 non-null float64\n",
      "date        8281 non-null float64\n",
      "go_out      8299 non-null float64\n",
      "career      8289 non-null object\n",
      "career_c    8240 non-null float64\n",
      "sports      8299 non-null float64\n",
      "tvsports    8299 non-null float64\n",
      "exercise    8299 non-null float64\n",
      "dining      8299 non-null float64\n",
      "museums     8299 non-null float64\n",
      "art         8299 non-null float64\n",
      "hiking      8299 non-null float64\n",
      "gaming      8299 non-null float64\n",
      "clubbing    8299 non-null float64\n",
      "reading     8299 non-null float64\n",
      "tv          8299 non-null float64\n",
      "theater     8299 non-null float64\n",
      "movies      8299 non-null float64\n",
      "concerts    8299 non-null float64\n",
      "music       8299 non-null float64\n",
      "shopping    8299 non-null float64\n",
      "yoga        8299 non-null float64\n",
      "exphappy    8277 non-null float64\n",
      "attr1_1     8299 non-null float64\n",
      "sinc1_1     8299 non-null float64\n",
      "intel1_1    8299 non-null float64\n",
      "fun1_1      8289 non-null float64\n",
      "amb1_1      8279 non-null float64\n",
      "shar1_1     8257 non-null float64\n",
      "attr2_1     8299 non-null float64\n",
      "sinc2_1     8299 non-null float64\n",
      "intel2_1    8299 non-null float64\n",
      "fun2_1      8299 non-null float64\n",
      "amb2_1      8289 non-null float64\n",
      "shar2_1     8289 non-null float64\n",
      "attr3_1     8273 non-null float64\n",
      "sinc3_1     8273 non-null float64\n",
      "fun3_1      8273 non-null float64\n",
      "intel3_1    8273 non-null float64\n",
      "amb3_1      8273 non-null float64\n",
      "dec         8378 non-null int64\n",
      "dtypes: float64(64), int64(13), object(4)\n",
      "memory usage: 5.2+ MB\n"
     ]
    }
   ],
   "source": [
    "df.info()"
   ]
  },
  {
   "cell_type": "code",
   "execution_count": 12,
   "metadata": {
    "collapsed": true
   },
   "outputs": [],
   "source": [
    "\n",
    "df1 = df.dropna()\n"
   ]
  },
  {
   "cell_type": "markdown",
   "metadata": {},
   "source": [
    "### 2). Saving the file with dropped missning values"
   ]
  },
  {
   "cell_type": "code",
   "execution_count": 13,
   "metadata": {
    "collapsed": true
   },
   "outputs": [],
   "source": [
    "df1.to_csv(path_or_buf=\"/Users/Marina/Documents/GA Data Science/projects/projects-capstone/data_no_missing.csv\", index=False)"
   ]
  },
  {
   "cell_type": "code",
   "execution_count": 110,
   "metadata": {
    "collapsed": false
   },
   "outputs": [],
   "source": [
    "df=pd.read_csv('/Users/Marina/Documents/GA Data Science/projects/projects-capstone/data_no_missing.csv')"
   ]
  },
  {
   "cell_type": "code",
   "execution_count": 111,
   "metadata": {
    "collapsed": false
   },
   "outputs": [
    {
     "name": "stdout",
     "output_type": "stream",
     "text": [
      "<class 'pandas.core.frame.DataFrame'>\n",
      "RangeIndex: 5731 entries, 0 to 5730\n",
      "Data columns (total 81 columns):\n",
      "iid         5731 non-null int64\n",
      "id          5731 non-null float64\n",
      "gender      5731 non-null int64\n",
      "idg         5731 non-null int64\n",
      "condtn      5731 non-null int64\n",
      "wave        5731 non-null int64\n",
      "round       5731 non-null int64\n",
      "position    5731 non-null int64\n",
      "order       5731 non-null int64\n",
      "partner     5731 non-null int64\n",
      "pid         5731 non-null float64\n",
      "match       5731 non-null int64\n",
      "int_corr    5731 non-null float64\n",
      "samerace    5731 non-null int64\n",
      "age_o       5731 non-null float64\n",
      "race_o      5731 non-null float64\n",
      "pf_o_att    5731 non-null float64\n",
      "pf_o_sin    5731 non-null float64\n",
      "pf_o_int    5731 non-null float64\n",
      "pf_o_fun    5731 non-null float64\n",
      "pf_o_amb    5731 non-null float64\n",
      "pf_o_sha    5731 non-null float64\n",
      "dec_o       5731 non-null int64\n",
      "attr_o      5731 non-null float64\n",
      "sinc_o      5731 non-null float64\n",
      "intel_o     5731 non-null float64\n",
      "fun_o       5731 non-null float64\n",
      "amb_o       5731 non-null float64\n",
      "shar_o      5731 non-null float64\n",
      "like_o      5731 non-null float64\n",
      "prob_o      5731 non-null float64\n",
      "met_o       5731 non-null float64\n",
      "age         5731 non-null float64\n",
      "field       5731 non-null object\n",
      "field_cd    5731 non-null float64\n",
      "race        5731 non-null float64\n",
      "imprace     5731 non-null float64\n",
      "imprelig    5731 non-null float64\n",
      "from        5731 non-null object\n",
      "zipcode     5731 non-null object\n",
      "goal        5731 non-null float64\n",
      "date        5731 non-null float64\n",
      "go_out      5731 non-null float64\n",
      "career      5731 non-null object\n",
      "career_c    5731 non-null float64\n",
      "sports      5731 non-null float64\n",
      "tvsports    5731 non-null float64\n",
      "exercise    5731 non-null float64\n",
      "dining      5731 non-null float64\n",
      "museums     5731 non-null float64\n",
      "art         5731 non-null float64\n",
      "hiking      5731 non-null float64\n",
      "gaming      5731 non-null float64\n",
      "clubbing    5731 non-null float64\n",
      "reading     5731 non-null float64\n",
      "tv          5731 non-null float64\n",
      "theater     5731 non-null float64\n",
      "movies      5731 non-null float64\n",
      "concerts    5731 non-null float64\n",
      "music       5731 non-null float64\n",
      "shopping    5731 non-null float64\n",
      "yoga        5731 non-null float64\n",
      "exphappy    5731 non-null float64\n",
      "attr1_1     5731 non-null float64\n",
      "sinc1_1     5731 non-null float64\n",
      "intel1_1    5731 non-null float64\n",
      "fun1_1      5731 non-null float64\n",
      "amb1_1      5731 non-null float64\n",
      "shar1_1     5731 non-null float64\n",
      "attr2_1     5731 non-null float64\n",
      "sinc2_1     5731 non-null float64\n",
      "intel2_1    5731 non-null float64\n",
      "fun2_1      5731 non-null float64\n",
      "amb2_1      5731 non-null float64\n",
      "shar2_1     5731 non-null float64\n",
      "attr3_1     5731 non-null float64\n",
      "sinc3_1     5731 non-null float64\n",
      "fun3_1      5731 non-null float64\n",
      "intel3_1    5731 non-null float64\n",
      "amb3_1      5731 non-null float64\n",
      "dec         5731 non-null int64\n",
      "dtypes: float64(64), int64(13), object(4)\n",
      "memory usage: 3.5+ MB\n"
     ]
    }
   ],
   "source": [
    "df.info()"
   ]
  },
  {
   "cell_type": "markdown",
   "metadata": {},
   "source": [
    "### 3). Recoding categorocal features. "
   ]
  },
  {
   "cell_type": "code",
   "execution_count": 112,
   "metadata": {
    "collapsed": false
   },
   "outputs": [
    {
     "data": {
      "text/plain": [
       "8.0     1281\n",
       "10.0     705\n",
       "5.0      543\n",
       "13.0     513\n",
       "1.0      507\n",
       "9.0      447\n",
       "3.0      420\n",
       "11.0     352\n",
       "6.0      244\n",
       "7.0      172\n",
       "15.0     134\n",
       "2.0      133\n",
       "4.0      115\n",
       "14.0      99\n",
       "18.0      41\n",
       "12.0      17\n",
       "16.0       8\n",
       "Name: field_cd, dtype: int64"
      ]
     },
     "execution_count": 112,
     "metadata": {},
     "output_type": "execute_result"
    }
   ],
   "source": [
    "df['field_cd'].value_counts()"
   ]
  },
  {
   "cell_type": "code",
   "execution_count": 113,
   "metadata": {
    "collapsed": false
   },
   "outputs": [],
   "source": [
    "df['field_cd']=df['field_cd'].apply(lambda x: str(x))"
   ]
  },
  {
   "cell_type": "code",
   "execution_count": 114,
   "metadata": {
    "collapsed": false
   },
   "outputs": [],
   "source": [
    "## RECODING RACE AND FIELD OF STUDY\n",
    "\n",
    "def field_of_study_category(words):\n",
    "        if str(words) =='1.0':\n",
    "            return 'Law'\n",
    "        elif str(words) =='2.0':\n",
    "            return 'Math'\n",
    "        elif str(words) =='3.0':\n",
    "            return 'Social Science'\n",
    "        elif str(words) =='4.0':\n",
    "            return 'Medical Science'\n",
    "        elif str(words) =='5.0':\n",
    "            return 'Engineering'\n",
    "        elif str(words) =='6.0':\n",
    "            return 'English'\n",
    "        elif str(words) =='7.0':\n",
    "            return 'History/Religion/Philosophy'\n",
    "        elif str(words) =='8.0':\n",
    "            return 'Business/Econ/Finance'\n",
    "        elif str(words) =='9.0':\n",
    "            return 'Education'\n",
    "        elif str(words) =='10.0':\n",
    "            return 'Biology/Chemistry/Physics'\n",
    "        elif str(words) =='11.0':\n",
    "            return 'Social Work'\n",
    "        elif str(words) =='12.0':\n",
    "            return 'Undergrad/undecided'\n",
    "        elif str(words) =='13.0':\n",
    "            return 'Political Science'\n",
    "        elif str(words) =='14.0':\n",
    "            return 'Film'\n",
    "        elif str(words) =='15.0':\n",
    "            return 'Fine Arts/Arts Admin'\n",
    "        elif str(words) =='16.0':\n",
    "            return 'Languages'\n",
    "        elif str(words) =='17.0':\n",
    "            return 'Architecture'\n",
    "        else:\n",
    "            return 'Other'"
   ]
  },
  {
   "cell_type": "code",
   "execution_count": 115,
   "metadata": {
    "collapsed": false
   },
   "outputs": [
    {
     "data": {
      "text/plain": [
       "Business/Econ/Finance          1281\n",
       "Biologicy/Chemistry/Physics     705\n",
       "Engineering                     543\n",
       "Political Science               513\n",
       "Law                             507\n",
       "Education                       447\n",
       "Social Science                  420\n",
       "Social Work                     352\n",
       "English                         244\n",
       "History/Religion/Philosophy     172\n",
       "Fine Arts/Arts Admin            134\n",
       "Math                            133\n",
       "Medical Science                 115\n",
       "Film                             99\n",
       "Other                            41\n",
       "Undergrad/undecided              17\n",
       "Languages                         8\n",
       "Name: field_cd, dtype: int64"
      ]
     },
     "execution_count": 115,
     "metadata": {},
     "output_type": "execute_result"
    }
   ],
   "source": [
    "\n",
    "df['field_cd']=df['field_cd'].map(field_of_study_category);\n",
    "\n",
    "df['field_cd'].value_counts()"
   ]
  },
  {
   "cell_type": "code",
   "execution_count": 117,
   "metadata": {
    "collapsed": false
   },
   "outputs": [
    {
     "data": {
      "text/plain": [
       "2.0     1621\n",
       "7.0     1501\n",
       "6.0      524\n",
       "1.0      523\n",
       "9.0      402\n",
       "4.0      279\n",
       "10.0     246\n",
       "3.0      161\n",
       "11.0     148\n",
       "5.0      131\n",
       "15.0      59\n",
       "13.0      49\n",
       "16.0      36\n",
       "12.0      26\n",
       "8.0       17\n",
       "14.0       8\n",
       "Name: career_c, dtype: int64"
      ]
     },
     "execution_count": 117,
     "metadata": {},
     "output_type": "execute_result"
    }
   ],
   "source": [
    "df['career_c'].value_counts()"
   ]
  },
  {
   "cell_type": "code",
   "execution_count": 118,
   "metadata": {
    "collapsed": true
   },
   "outputs": [],
   "source": [
    "df['career_c']=df['career_c'].apply(lambda x: str(x))"
   ]
  },
  {
   "cell_type": "code",
   "execution_count": 119,
   "metadata": {
    "collapsed": true
   },
   "outputs": [],
   "source": [
    "def career_category(words):\n",
    "        if str(words) =='1.0':\n",
    "            return 'Lawyer'\n",
    "        elif str(words) =='2.0':\n",
    "            return 'Academic/Research'\n",
    "        elif str(words) =='3.0':\n",
    "            return 'Psychologist'\n",
    "        elif str(words) =='4.0':\n",
    "            return 'Doctor/Medicine'\n",
    "        elif str(words) =='5.0':\n",
    "            return 'Engineer'\n",
    "        elif str(words) =='6.0':\n",
    "            return 'Entertainment'\n",
    "        elif str(words) =='7.0':\n",
    "            return 'Banking/Business'\n",
    "        elif str(words) =='8.0':\n",
    "            return 'Real State'\n",
    "        elif str(words) =='9.0':\n",
    "            return 'Internatonal Affairs'\n",
    "        elif str(words) =='10.0':\n",
    "            return 'Undecided'\n",
    "        elif str(words) =='11.0':\n",
    "            return 'Social Work'\n",
    "        elif str(words) =='12.0':\n",
    "            return 'Spech Pathology'\n",
    "        elif str(words) =='13.0':\n",
    "            return 'Politics'\n",
    "        elif str(words) =='14.0':\n",
    "            return 'Athletics/Sports'\n",
    "        elif str(words) =='15.0':\n",
    "            return 'Other'\n",
    "        elif str(words) =='16.0':\n",
    "            return 'Journalism'\n",
    "        else:\n",
    "            return 'Architecture'"
   ]
  },
  {
   "cell_type": "code",
   "execution_count": 120,
   "metadata": {
    "collapsed": false
   },
   "outputs": [
    {
     "data": {
      "text/plain": [
       "Academic/Research       1621\n",
       "Banking/Business        1501\n",
       "Entertainment            524\n",
       "Lawyer                   523\n",
       "Internatonal Affairs     402\n",
       "Doctor/Medicine          279\n",
       "Undecided                246\n",
       "Psychologist             161\n",
       "Social Work              148\n",
       "Engineer                 131\n",
       "Other                     59\n",
       "Politics                  49\n",
       "Journalism                36\n",
       "Spech Pathology           26\n",
       "Real State                17\n",
       "Athletics/Sports           8\n",
       "Name: career_c, dtype: int64"
      ]
     },
     "execution_count": 120,
     "metadata": {},
     "output_type": "execute_result"
    }
   ],
   "source": [
    "\n",
    "df['career_c']=df['career_c'].map(career_category);\n",
    "\n",
    "df['career_c'].value_counts()"
   ]
  },
  {
   "cell_type": "code",
   "execution_count": 121,
   "metadata": {
    "collapsed": true
   },
   "outputs": [],
   "source": [
    "df['race']=df['race'].apply(lambda x: str(x))"
   ]
  },
  {
   "cell_type": "code",
   "execution_count": 122,
   "metadata": {
    "collapsed": false
   },
   "outputs": [],
   "source": [
    "def race_category(words):\n",
    "        if '1' in words:\n",
    "            return 'African American'\n",
    "        elif '2' in words:\n",
    "            return 'European American'\n",
    "        elif '3' in words:\n",
    "            return 'Hispanic American'\n",
    "        elif '4' in words:\n",
    "            return 'Asian American'\n",
    "        elif '5' in words:\n",
    "            return 'Native American'\n",
    "        else:\n",
    "            return 'Other'"
   ]
  },
  {
   "cell_type": "code",
   "execution_count": 123,
   "metadata": {
    "collapsed": false
   },
   "outputs": [
    {
     "data": {
      "text/plain": [
       "European American    3312\n",
       "Asian American       1381\n",
       "Hispanic American     399\n",
       "Other                 345\n",
       "African American      294\n",
       "Name: race, dtype: int64"
      ]
     },
     "execution_count": 123,
     "metadata": {},
     "output_type": "execute_result"
    }
   ],
   "source": [
    "\n",
    "df['race']=df['race'].map(race_category);\n",
    "\n",
    "df['race'].value_counts()"
   ]
  },
  {
   "cell_type": "code",
   "execution_count": 124,
   "metadata": {
    "collapsed": true
   },
   "outputs": [],
   "source": [
    "df['race_o']=df['race_o'].apply(lambda x: str(x))"
   ]
  },
  {
   "cell_type": "code",
   "execution_count": 125,
   "metadata": {
    "collapsed": false
   },
   "outputs": [],
   "source": [
    "def race_o_category(words):\n",
    "        if '1' in words:\n",
    "            return 'African American'\n",
    "        elif '2' in words:\n",
    "            return 'European American'\n",
    "        elif '3' in words:\n",
    "            return 'Hispanic American'\n",
    "        elif '4' in words:\n",
    "            return 'Asian American'\n",
    "        elif '5' in words:\n",
    "            return 'Native American'\n",
    "        else:\n",
    "            return 'Other'"
   ]
  },
  {
   "cell_type": "code",
   "execution_count": 126,
   "metadata": {
    "collapsed": false
   },
   "outputs": [
    {
     "data": {
      "text/plain": [
       "European American    3235\n",
       "Asian American       1397\n",
       "Hispanic American     425\n",
       "Other                 390\n",
       "African American      284\n",
       "Name: race_o, dtype: int64"
      ]
     },
     "execution_count": 126,
     "metadata": {},
     "output_type": "execute_result"
    }
   ],
   "source": [
    "\n",
    "df['race_o']=df['race_o'].map(race_o_category);\n",
    "\n",
    "df['race_o'].value_counts()"
   ]
  },
  {
   "cell_type": "code",
   "execution_count": 127,
   "metadata": {
    "collapsed": true
   },
   "outputs": [],
   "source": [
    "df['gender']=df['gender'].apply(lambda x: str(x))"
   ]
  },
  {
   "cell_type": "code",
   "execution_count": 128,
   "metadata": {
    "collapsed": true
   },
   "outputs": [],
   "source": [
    "def gender_category(words):\n",
    "        if '0' in words:\n",
    "            return 'Female'\n",
    "        else:\n",
    "            return 'Male'"
   ]
  },
  {
   "cell_type": "code",
   "execution_count": 129,
   "metadata": {
    "collapsed": false
   },
   "outputs": [
    {
     "data": {
      "text/plain": [
       "Female    2999\n",
       "Male      2732\n",
       "Name: gender, dtype: int64"
      ]
     },
     "execution_count": 129,
     "metadata": {},
     "output_type": "execute_result"
    }
   ],
   "source": [
    "df['gender']=df['gender'].map(gender_category);\n",
    "\n",
    "df['gender'].value_counts()"
   ]
  },
  {
   "cell_type": "code",
   "execution_count": 130,
   "metadata": {
    "collapsed": false
   },
   "outputs": [
    {
     "name": "stdout",
     "output_type": "stream",
     "text": [
      "<class 'pandas.core.frame.DataFrame'>\n",
      "RangeIndex: 5731 entries, 0 to 5730\n",
      "Data columns (total 81 columns):\n",
      "iid         5731 non-null int64\n",
      "id          5731 non-null float64\n",
      "gender      5731 non-null object\n",
      "idg         5731 non-null int64\n",
      "condtn      5731 non-null int64\n",
      "wave        5731 non-null int64\n",
      "round       5731 non-null int64\n",
      "position    5731 non-null int64\n",
      "order       5731 non-null int64\n",
      "partner     5731 non-null int64\n",
      "pid         5731 non-null float64\n",
      "match       5731 non-null int64\n",
      "int_corr    5731 non-null float64\n",
      "samerace    5731 non-null int64\n",
      "age_o       5731 non-null float64\n",
      "race_o      5731 non-null object\n",
      "pf_o_att    5731 non-null float64\n",
      "pf_o_sin    5731 non-null float64\n",
      "pf_o_int    5731 non-null float64\n",
      "pf_o_fun    5731 non-null float64\n",
      "pf_o_amb    5731 non-null float64\n",
      "pf_o_sha    5731 non-null float64\n",
      "dec_o       5731 non-null int64\n",
      "attr_o      5731 non-null float64\n",
      "sinc_o      5731 non-null float64\n",
      "intel_o     5731 non-null float64\n",
      "fun_o       5731 non-null float64\n",
      "amb_o       5731 non-null float64\n",
      "shar_o      5731 non-null float64\n",
      "like_o      5731 non-null float64\n",
      "prob_o      5731 non-null float64\n",
      "met_o       5731 non-null float64\n",
      "age         5731 non-null float64\n",
      "field       5731 non-null object\n",
      "field_cd    5731 non-null object\n",
      "race        5731 non-null object\n",
      "imprace     5731 non-null float64\n",
      "imprelig    5731 non-null float64\n",
      "from        5731 non-null object\n",
      "zipcode     5731 non-null object\n",
      "goal        5731 non-null float64\n",
      "date        5731 non-null float64\n",
      "go_out      5731 non-null float64\n",
      "career      5731 non-null object\n",
      "career_c    5731 non-null object\n",
      "sports      5731 non-null float64\n",
      "tvsports    5731 non-null float64\n",
      "exercise    5731 non-null float64\n",
      "dining      5731 non-null float64\n",
      "museums     5731 non-null float64\n",
      "art         5731 non-null float64\n",
      "hiking      5731 non-null float64\n",
      "gaming      5731 non-null float64\n",
      "clubbing    5731 non-null float64\n",
      "reading     5731 non-null float64\n",
      "tv          5731 non-null float64\n",
      "theater     5731 non-null float64\n",
      "movies      5731 non-null float64\n",
      "concerts    5731 non-null float64\n",
      "music       5731 non-null float64\n",
      "shopping    5731 non-null float64\n",
      "yoga        5731 non-null float64\n",
      "exphappy    5731 non-null float64\n",
      "attr1_1     5731 non-null float64\n",
      "sinc1_1     5731 non-null float64\n",
      "intel1_1    5731 non-null float64\n",
      "fun1_1      5731 non-null float64\n",
      "amb1_1      5731 non-null float64\n",
      "shar1_1     5731 non-null float64\n",
      "attr2_1     5731 non-null float64\n",
      "sinc2_1     5731 non-null float64\n",
      "intel2_1    5731 non-null float64\n",
      "fun2_1      5731 non-null float64\n",
      "amb2_1      5731 non-null float64\n",
      "shar2_1     5731 non-null float64\n",
      "attr3_1     5731 non-null float64\n",
      "sinc3_1     5731 non-null float64\n",
      "fun3_1      5731 non-null float64\n",
      "intel3_1    5731 non-null float64\n",
      "amb3_1      5731 non-null float64\n",
      "dec         5731 non-null int64\n",
      "dtypes: float64(60), int64(12), object(9)\n",
      "memory usage: 3.5+ MB\n"
     ]
    }
   ],
   "source": [
    "df.info()"
   ]
  },
  {
   "cell_type": "markdown",
   "metadata": {},
   "source": [
    "### 4). Saving final cleaned data to a separate file"
   ]
  },
  {
   "cell_type": "code",
   "execution_count": 131,
   "metadata": {
    "collapsed": true
   },
   "outputs": [],
   "source": [
    "df.to_csv(path_or_buf=\"/Users/Marina/Documents/GA Data Science/projects/projects-capstone/clean_data.csv\", index=False)"
   ]
  },
  {
   "cell_type": "code",
   "execution_count": 18,
   "metadata": {
    "collapsed": false
   },
   "outputs": [
    {
     "data": {
      "text/html": [
       "<div>\n",
       "<table border=\"1\" class=\"dataframe\">\n",
       "  <thead>\n",
       "    <tr style=\"text-align: right;\">\n",
       "      <th></th>\n",
       "      <th>iid</th>\n",
       "      <th>id</th>\n",
       "      <th>idg</th>\n",
       "      <th>condtn</th>\n",
       "      <th>wave</th>\n",
       "      <th>round</th>\n",
       "      <th>position</th>\n",
       "      <th>order</th>\n",
       "      <th>partner</th>\n",
       "      <th>pid</th>\n",
       "      <th>...</th>\n",
       "      <th>intel2_1</th>\n",
       "      <th>fun2_1</th>\n",
       "      <th>amb2_1</th>\n",
       "      <th>shar2_1</th>\n",
       "      <th>attr3_1</th>\n",
       "      <th>sinc3_1</th>\n",
       "      <th>fun3_1</th>\n",
       "      <th>intel3_1</th>\n",
       "      <th>amb3_1</th>\n",
       "      <th>dec</th>\n",
       "    </tr>\n",
       "  </thead>\n",
       "  <tbody>\n",
       "    <tr>\n",
       "      <th>count</th>\n",
       "      <td>5731.000000</td>\n",
       "      <td>5731.000000</td>\n",
       "      <td>5731.000000</td>\n",
       "      <td>5731.000000</td>\n",
       "      <td>5731.000000</td>\n",
       "      <td>5731.000000</td>\n",
       "      <td>5731.000000</td>\n",
       "      <td>5731.000000</td>\n",
       "      <td>5731.000000</td>\n",
       "      <td>5731.000000</td>\n",
       "      <td>...</td>\n",
       "      <td>5731.000000</td>\n",
       "      <td>5731.000000</td>\n",
       "      <td>5731.000000</td>\n",
       "      <td>5731.000000</td>\n",
       "      <td>5731.000000</td>\n",
       "      <td>5731.000000</td>\n",
       "      <td>5731.000000</td>\n",
       "      <td>5731.000000</td>\n",
       "      <td>5731.000000</td>\n",
       "      <td>5731.000000</td>\n",
       "    </tr>\n",
       "    <tr>\n",
       "      <th>mean</th>\n",
       "      <td>277.710173</td>\n",
       "      <td>8.988658</td>\n",
       "      <td>17.362066</td>\n",
       "      <td>1.848020</td>\n",
       "      <td>11.147269</td>\n",
       "      <td>16.930204</td>\n",
       "      <td>9.195777</td>\n",
       "      <td>8.831269</td>\n",
       "      <td>9.101902</td>\n",
       "      <td>278.742279</td>\n",
       "      <td>...</td>\n",
       "      <td>14.261567</td>\n",
       "      <td>18.366563</td>\n",
       "      <td>11.612146</td>\n",
       "      <td>12.002575</td>\n",
       "      <td>7.127377</td>\n",
       "      <td>8.309719</td>\n",
       "      <td>7.735299</td>\n",
       "      <td>8.447042</td>\n",
       "      <td>7.611586</td>\n",
       "      <td>0.428023</td>\n",
       "    </tr>\n",
       "    <tr>\n",
       "      <th>std</th>\n",
       "      <td>161.166120</td>\n",
       "      <td>5.398828</td>\n",
       "      <td>10.742096</td>\n",
       "      <td>0.359033</td>\n",
       "      <td>6.114094</td>\n",
       "      <td>4.238980</td>\n",
       "      <td>5.500188</td>\n",
       "      <td>5.411349</td>\n",
       "      <td>5.514545</td>\n",
       "      <td>161.771526</td>\n",
       "      <td>...</td>\n",
       "      <td>6.041440</td>\n",
       "      <td>6.519451</td>\n",
       "      <td>6.860896</td>\n",
       "      <td>6.056225</td>\n",
       "      <td>1.378153</td>\n",
       "      <td>1.382340</td>\n",
       "      <td>1.577738</td>\n",
       "      <td>1.060366</td>\n",
       "      <td>1.756831</td>\n",
       "      <td>0.494835</td>\n",
       "    </tr>\n",
       "    <tr>\n",
       "      <th>min</th>\n",
       "      <td>4.000000</td>\n",
       "      <td>1.000000</td>\n",
       "      <td>1.000000</td>\n",
       "      <td>1.000000</td>\n",
       "      <td>1.000000</td>\n",
       "      <td>5.000000</td>\n",
       "      <td>1.000000</td>\n",
       "      <td>1.000000</td>\n",
       "      <td>1.000000</td>\n",
       "      <td>1.000000</td>\n",
       "      <td>...</td>\n",
       "      <td>0.000000</td>\n",
       "      <td>0.000000</td>\n",
       "      <td>0.000000</td>\n",
       "      <td>0.000000</td>\n",
       "      <td>2.000000</td>\n",
       "      <td>2.000000</td>\n",
       "      <td>2.000000</td>\n",
       "      <td>3.000000</td>\n",
       "      <td>2.000000</td>\n",
       "      <td>0.000000</td>\n",
       "    </tr>\n",
       "    <tr>\n",
       "      <th>25%</th>\n",
       "      <td>143.000000</td>\n",
       "      <td>5.000000</td>\n",
       "      <td>9.000000</td>\n",
       "      <td>2.000000</td>\n",
       "      <td>7.000000</td>\n",
       "      <td>15.000000</td>\n",
       "      <td>4.000000</td>\n",
       "      <td>4.000000</td>\n",
       "      <td>4.000000</td>\n",
       "      <td>144.000000</td>\n",
       "      <td>...</td>\n",
       "      <td>10.000000</td>\n",
       "      <td>15.000000</td>\n",
       "      <td>5.000000</td>\n",
       "      <td>10.000000</td>\n",
       "      <td>7.000000</td>\n",
       "      <td>8.000000</td>\n",
       "      <td>7.000000</td>\n",
       "      <td>8.000000</td>\n",
       "      <td>7.000000</td>\n",
       "      <td>0.000000</td>\n",
       "    </tr>\n",
       "    <tr>\n",
       "      <th>50%</th>\n",
       "      <td>276.000000</td>\n",
       "      <td>8.000000</td>\n",
       "      <td>16.000000</td>\n",
       "      <td>2.000000</td>\n",
       "      <td>11.000000</td>\n",
       "      <td>18.000000</td>\n",
       "      <td>9.000000</td>\n",
       "      <td>8.000000</td>\n",
       "      <td>8.000000</td>\n",
       "      <td>272.000000</td>\n",
       "      <td>...</td>\n",
       "      <td>15.000000</td>\n",
       "      <td>20.000000</td>\n",
       "      <td>10.000000</td>\n",
       "      <td>10.000000</td>\n",
       "      <td>7.000000</td>\n",
       "      <td>8.000000</td>\n",
       "      <td>8.000000</td>\n",
       "      <td>8.000000</td>\n",
       "      <td>8.000000</td>\n",
       "      <td>0.000000</td>\n",
       "    </tr>\n",
       "    <tr>\n",
       "      <th>75%</th>\n",
       "      <td>410.000000</td>\n",
       "      <td>13.000000</td>\n",
       "      <td>26.000000</td>\n",
       "      <td>2.000000</td>\n",
       "      <td>15.000000</td>\n",
       "      <td>20.000000</td>\n",
       "      <td>13.000000</td>\n",
       "      <td>13.000000</td>\n",
       "      <td>14.000000</td>\n",
       "      <td>413.000000</td>\n",
       "      <td>...</td>\n",
       "      <td>19.570000</td>\n",
       "      <td>20.000000</td>\n",
       "      <td>15.000000</td>\n",
       "      <td>15.910000</td>\n",
       "      <td>8.000000</td>\n",
       "      <td>9.000000</td>\n",
       "      <td>9.000000</td>\n",
       "      <td>9.000000</td>\n",
       "      <td>9.000000</td>\n",
       "      <td>1.000000</td>\n",
       "    </tr>\n",
       "    <tr>\n",
       "      <th>max</th>\n",
       "      <td>552.000000</td>\n",
       "      <td>22.000000</td>\n",
       "      <td>44.000000</td>\n",
       "      <td>2.000000</td>\n",
       "      <td>21.000000</td>\n",
       "      <td>22.000000</td>\n",
       "      <td>22.000000</td>\n",
       "      <td>22.000000</td>\n",
       "      <td>22.000000</td>\n",
       "      <td>552.000000</td>\n",
       "      <td>...</td>\n",
       "      <td>40.000000</td>\n",
       "      <td>50.000000</td>\n",
       "      <td>50.000000</td>\n",
       "      <td>30.000000</td>\n",
       "      <td>10.000000</td>\n",
       "      <td>10.000000</td>\n",
       "      <td>10.000000</td>\n",
       "      <td>10.000000</td>\n",
       "      <td>10.000000</td>\n",
       "      <td>1.000000</td>\n",
       "    </tr>\n",
       "  </tbody>\n",
       "</table>\n",
       "<p>8 rows × 73 columns</p>\n",
       "</div>"
      ],
      "text/plain": [
       "               iid           id          idg       condtn         wave  \\\n",
       "count  5731.000000  5731.000000  5731.000000  5731.000000  5731.000000   \n",
       "mean    277.710173     8.988658    17.362066     1.848020    11.147269   \n",
       "std     161.166120     5.398828    10.742096     0.359033     6.114094   \n",
       "min       4.000000     1.000000     1.000000     1.000000     1.000000   \n",
       "25%     143.000000     5.000000     9.000000     2.000000     7.000000   \n",
       "50%     276.000000     8.000000    16.000000     2.000000    11.000000   \n",
       "75%     410.000000    13.000000    26.000000     2.000000    15.000000   \n",
       "max     552.000000    22.000000    44.000000     2.000000    21.000000   \n",
       "\n",
       "             round     position        order      partner          pid  \\\n",
       "count  5731.000000  5731.000000  5731.000000  5731.000000  5731.000000   \n",
       "mean     16.930204     9.195777     8.831269     9.101902   278.742279   \n",
       "std       4.238980     5.500188     5.411349     5.514545   161.771526   \n",
       "min       5.000000     1.000000     1.000000     1.000000     1.000000   \n",
       "25%      15.000000     4.000000     4.000000     4.000000   144.000000   \n",
       "50%      18.000000     9.000000     8.000000     8.000000   272.000000   \n",
       "75%      20.000000    13.000000    13.000000    14.000000   413.000000   \n",
       "max      22.000000    22.000000    22.000000    22.000000   552.000000   \n",
       "\n",
       "          ...          intel2_1       fun2_1       amb2_1      shar2_1  \\\n",
       "count     ...       5731.000000  5731.000000  5731.000000  5731.000000   \n",
       "mean      ...         14.261567    18.366563    11.612146    12.002575   \n",
       "std       ...          6.041440     6.519451     6.860896     6.056225   \n",
       "min       ...          0.000000     0.000000     0.000000     0.000000   \n",
       "25%       ...         10.000000    15.000000     5.000000    10.000000   \n",
       "50%       ...         15.000000    20.000000    10.000000    10.000000   \n",
       "75%       ...         19.570000    20.000000    15.000000    15.910000   \n",
       "max       ...         40.000000    50.000000    50.000000    30.000000   \n",
       "\n",
       "           attr3_1      sinc3_1       fun3_1     intel3_1       amb3_1  \\\n",
       "count  5731.000000  5731.000000  5731.000000  5731.000000  5731.000000   \n",
       "mean      7.127377     8.309719     7.735299     8.447042     7.611586   \n",
       "std       1.378153     1.382340     1.577738     1.060366     1.756831   \n",
       "min       2.000000     2.000000     2.000000     3.000000     2.000000   \n",
       "25%       7.000000     8.000000     7.000000     8.000000     7.000000   \n",
       "50%       7.000000     8.000000     8.000000     8.000000     8.000000   \n",
       "75%       8.000000     9.000000     9.000000     9.000000     9.000000   \n",
       "max      10.000000    10.000000    10.000000    10.000000    10.000000   \n",
       "\n",
       "               dec  \n",
       "count  5731.000000  \n",
       "mean      0.428023  \n",
       "std       0.494835  \n",
       "min       0.000000  \n",
       "25%       0.000000  \n",
       "50%       0.000000  \n",
       "75%       1.000000  \n",
       "max       1.000000  \n",
       "\n",
       "[8 rows x 73 columns]"
      ]
     },
     "execution_count": 18,
     "metadata": {},
     "output_type": "execute_result"
    }
   ],
   "source": [
    "df.describe()"
   ]
  }
 ],
 "metadata": {
  "anaconda-cloud": {},
  "kernelspec": {
   "display_name": "Python [Root]",
   "language": "python",
   "name": "Python [Root]"
  },
  "language_info": {
   "codemirror_mode": {
    "name": "ipython",
    "version": 2
   },
   "file_extension": ".py",
   "mimetype": "text/x-python",
   "name": "python",
   "nbconvert_exporter": "python",
   "pygments_lexer": "ipython2",
   "version": "2.7.12"
  }
 },
 "nbformat": 4,
 "nbformat_minor": 0
}
