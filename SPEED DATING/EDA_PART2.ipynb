{
 "cells": [
  {
   "cell_type": "code",
   "execution_count": 1,
   "metadata": {
    "collapsed": true
   },
   "outputs": [],
   "source": [
    "import numpy as np\n",
    "import pandas as pd\n",
    "import matplotlib.pyplot as plt\n",
    "%matplotlib inline\n",
    "import seaborn as sns\n",
    "\n",
    "import plotly.plotly as py\n",
    "import cufflinks as cf\n",
    "\n",
    "\n"
   ]
  },
  {
   "cell_type": "code",
   "execution_count": 2,
   "metadata": {
    "collapsed": false
   },
   "outputs": [
    {
     "data": {
      "text/html": [
       "<div>\n",
       "<table border=\"1\" class=\"dataframe\">\n",
       "  <thead>\n",
       "    <tr style=\"text-align: right;\">\n",
       "      <th></th>\n",
       "      <th>iid</th>\n",
       "      <th>id</th>\n",
       "      <th>gender</th>\n",
       "      <th>idg</th>\n",
       "      <th>condtn</th>\n",
       "      <th>wave</th>\n",
       "      <th>round</th>\n",
       "      <th>position</th>\n",
       "      <th>order</th>\n",
       "      <th>partner</th>\n",
       "      <th>...</th>\n",
       "      <th>intel2_1</th>\n",
       "      <th>fun2_1</th>\n",
       "      <th>amb2_1</th>\n",
       "      <th>shar2_1</th>\n",
       "      <th>attr3_1</th>\n",
       "      <th>sinc3_1</th>\n",
       "      <th>fun3_1</th>\n",
       "      <th>intel3_1</th>\n",
       "      <th>amb3_1</th>\n",
       "      <th>dec</th>\n",
       "    </tr>\n",
       "  </thead>\n",
       "  <tbody>\n",
       "    <tr>\n",
       "      <th>0</th>\n",
       "      <td>4</td>\n",
       "      <td>4.0</td>\n",
       "      <td>Female</td>\n",
       "      <td>7</td>\n",
       "      <td>1</td>\n",
       "      <td>1</td>\n",
       "      <td>10</td>\n",
       "      <td>6</td>\n",
       "      <td>3</td>\n",
       "      <td>1</td>\n",
       "      <td>...</td>\n",
       "      <td>15.0</td>\n",
       "      <td>30.0</td>\n",
       "      <td>5.0</td>\n",
       "      <td>10.0</td>\n",
       "      <td>7.0</td>\n",
       "      <td>8.0</td>\n",
       "      <td>9.0</td>\n",
       "      <td>7.0</td>\n",
       "      <td>8.0</td>\n",
       "      <td>0</td>\n",
       "    </tr>\n",
       "    <tr>\n",
       "      <th>1</th>\n",
       "      <td>4</td>\n",
       "      <td>4.0</td>\n",
       "      <td>Female</td>\n",
       "      <td>7</td>\n",
       "      <td>1</td>\n",
       "      <td>1</td>\n",
       "      <td>10</td>\n",
       "      <td>6</td>\n",
       "      <td>2</td>\n",
       "      <td>2</td>\n",
       "      <td>...</td>\n",
       "      <td>15.0</td>\n",
       "      <td>30.0</td>\n",
       "      <td>5.0</td>\n",
       "      <td>10.0</td>\n",
       "      <td>7.0</td>\n",
       "      <td>8.0</td>\n",
       "      <td>9.0</td>\n",
       "      <td>7.0</td>\n",
       "      <td>8.0</td>\n",
       "      <td>0</td>\n",
       "    </tr>\n",
       "    <tr>\n",
       "      <th>2</th>\n",
       "      <td>4</td>\n",
       "      <td>4.0</td>\n",
       "      <td>Female</td>\n",
       "      <td>7</td>\n",
       "      <td>1</td>\n",
       "      <td>1</td>\n",
       "      <td>10</td>\n",
       "      <td>6</td>\n",
       "      <td>4</td>\n",
       "      <td>4</td>\n",
       "      <td>...</td>\n",
       "      <td>15.0</td>\n",
       "      <td>30.0</td>\n",
       "      <td>5.0</td>\n",
       "      <td>10.0</td>\n",
       "      <td>7.0</td>\n",
       "      <td>8.0</td>\n",
       "      <td>9.0</td>\n",
       "      <td>7.0</td>\n",
       "      <td>8.0</td>\n",
       "      <td>1</td>\n",
       "    </tr>\n",
       "    <tr>\n",
       "      <th>3</th>\n",
       "      <td>4</td>\n",
       "      <td>4.0</td>\n",
       "      <td>Female</td>\n",
       "      <td>7</td>\n",
       "      <td>1</td>\n",
       "      <td>1</td>\n",
       "      <td>10</td>\n",
       "      <td>6</td>\n",
       "      <td>6</td>\n",
       "      <td>5</td>\n",
       "      <td>...</td>\n",
       "      <td>15.0</td>\n",
       "      <td>30.0</td>\n",
       "      <td>5.0</td>\n",
       "      <td>10.0</td>\n",
       "      <td>7.0</td>\n",
       "      <td>8.0</td>\n",
       "      <td>9.0</td>\n",
       "      <td>7.0</td>\n",
       "      <td>8.0</td>\n",
       "      <td>0</td>\n",
       "    </tr>\n",
       "    <tr>\n",
       "      <th>4</th>\n",
       "      <td>4</td>\n",
       "      <td>4.0</td>\n",
       "      <td>Female</td>\n",
       "      <td>7</td>\n",
       "      <td>1</td>\n",
       "      <td>1</td>\n",
       "      <td>10</td>\n",
       "      <td>6</td>\n",
       "      <td>5</td>\n",
       "      <td>6</td>\n",
       "      <td>...</td>\n",
       "      <td>15.0</td>\n",
       "      <td>30.0</td>\n",
       "      <td>5.0</td>\n",
       "      <td>10.0</td>\n",
       "      <td>7.0</td>\n",
       "      <td>8.0</td>\n",
       "      <td>9.0</td>\n",
       "      <td>7.0</td>\n",
       "      <td>8.0</td>\n",
       "      <td>0</td>\n",
       "    </tr>\n",
       "  </tbody>\n",
       "</table>\n",
       "<p>5 rows × 81 columns</p>\n",
       "</div>"
      ],
      "text/plain": [
       "   iid   id  gender  idg  condtn  wave  round  position  order  partner ...   \\\n",
       "0    4  4.0  Female    7       1     1     10         6      3        1 ...    \n",
       "1    4  4.0  Female    7       1     1     10         6      2        2 ...    \n",
       "2    4  4.0  Female    7       1     1     10         6      4        4 ...    \n",
       "3    4  4.0  Female    7       1     1     10         6      6        5 ...    \n",
       "4    4  4.0  Female    7       1     1     10         6      5        6 ...    \n",
       "\n",
       "   intel2_1  fun2_1  amb2_1  shar2_1  attr3_1 sinc3_1  fun3_1  intel3_1  \\\n",
       "0      15.0    30.0     5.0     10.0      7.0     8.0     9.0       7.0   \n",
       "1      15.0    30.0     5.0     10.0      7.0     8.0     9.0       7.0   \n",
       "2      15.0    30.0     5.0     10.0      7.0     8.0     9.0       7.0   \n",
       "3      15.0    30.0     5.0     10.0      7.0     8.0     9.0       7.0   \n",
       "4      15.0    30.0     5.0     10.0      7.0     8.0     9.0       7.0   \n",
       "\n",
       "   amb3_1  dec  \n",
       "0     8.0    0  \n",
       "1     8.0    0  \n",
       "2     8.0    1  \n",
       "3     8.0    0  \n",
       "4     8.0    0  \n",
       "\n",
       "[5 rows x 81 columns]"
      ]
     },
     "execution_count": 2,
     "metadata": {},
     "output_type": "execute_result"
    }
   ],
   "source": [
    "\n",
    "\n",
    "df=pd.read_csv('/Users/Marina/Documents/GA Data Science/projects/projects-capstone/clean_data.csv')\n",
    "\n",
    "df.head()"
   ]
  },
  {
   "cell_type": "code",
   "execution_count": 3,
   "metadata": {
    "collapsed": false
   },
   "outputs": [],
   "source": [
    "df_male=df.loc[df['gender'] == \"Male\"];\n",
    "df_female=df.loc[df['gender'] == \"Female\"]"
   ]
  },
  {
   "cell_type": "code",
   "execution_count": 4,
   "metadata": {
    "collapsed": false
   },
   "outputs": [
    {
     "data": {
      "text/plain": [
       "230"
      ]
     },
     "execution_count": 4,
     "metadata": {},
     "output_type": "execute_result"
    }
   ],
   "source": [
    "df_male['iid'].nunique()\n"
   ]
  },
  {
   "cell_type": "code",
   "execution_count": 5,
   "metadata": {
    "collapsed": false
   },
   "outputs": [
    {
     "data": {
      "text/plain": [
       "235"
      ]
     },
     "execution_count": 5,
     "metadata": {},
     "output_type": "execute_result"
    }
   ],
   "source": [
    "df_female['iid'].nunique()"
   ]
  },
  {
   "cell_type": "code",
   "execution_count": 6,
   "metadata": {
    "collapsed": false
   },
   "outputs": [],
   "source": [
    "df1=df_male.groupby('iid')['age'].mean().to_frame();\n",
    "df1.reset_index(inplace=True);\n",
    "df2=df_female.groupby('iid')['age'].mean().to_frame();\n",
    "df2.reset_index(inplace=True)\n",
    "\n",
    "\n"
   ]
  },
  {
   "cell_type": "code",
   "execution_count": 7,
   "metadata": {
    "collapsed": false
   },
   "outputs": [],
   "source": [
    "y_male=df1['age']\n",
    "y_female=df2['age']\n"
   ]
  },
  {
   "cell_type": "code",
   "execution_count": 27,
   "metadata": {
    "collapsed": false
   },
   "outputs": [
    {
     "data": {
      "image/png": "[encoded data removed]",
      "text/plain": [
       "<matplotlib.figure.Figure at 0x1183a4190>"
      ]
     },
     "metadata": {},
     "output_type": "display_data"
    }
   ],
   "source": [
    "# plt.style.use('bmh')\n",
    "# plt.style.use('fivethirtyeight')\n",
    "plt.figure(figsize=(12,7))\n",
    "bins = np.linspace(16, 60, 40)\n",
    "plt.style.use('fivethirtyeight')\n",
    "plt.title(\"Distribution of Age for Both Genders\",fontsize=22,y=1.03)\n",
    "plt.hist(y_male,bins, label='Male', alpha=.7, color='slateblue')\n",
    "\n",
    "#histtype : {'bar', 'barstacked', 'step',  'stepfilled'}\n",
    "plt.hist(y_female,bins, alpha=.5, label='Female', color='darkmagenta')\n",
    "plt.xticks(fontsize=12)\n",
    "plt.yticks(fontsize=12)\n",
    "plt.legend(loc='upper right', fontsize=15)\n",
    "plt.grid(color='gray', linestyle='--', alpha=.5)\n",
    "\n",
    "plt.show()\n",
    "\n",
    "#violet"
   ]
  },
  {
   "cell_type": "code",
   "execution_count": 15,
   "metadata": {
    "collapsed": false
   },
   "outputs": [
    {
     "data": {
      "text/html": [
       "<div>\n",
       "<table border=\"1\" class=\"dataframe\">\n",
       "  <thead>\n",
       "    <tr style=\"text-align: right;\">\n",
       "      <th></th>\n",
       "      <th>race</th>\n",
       "      <th>gender</th>\n",
       "      <th>iid</th>\n",
       "    </tr>\n",
       "  </thead>\n",
       "  <tbody>\n",
       "    <tr>\n",
       "      <th>0</th>\n",
       "      <td>African American</td>\n",
       "      <td>Female</td>\n",
       "      <td>13</td>\n",
       "    </tr>\n",
       "    <tr>\n",
       "      <th>1</th>\n",
       "      <td>African American</td>\n",
       "      <td>Male</td>\n",
       "      <td>9</td>\n",
       "    </tr>\n",
       "    <tr>\n",
       "      <th>2</th>\n",
       "      <td>Asian American</td>\n",
       "      <td>Female</td>\n",
       "      <td>60</td>\n",
       "    </tr>\n",
       "    <tr>\n",
       "      <th>3</th>\n",
       "      <td>Asian American</td>\n",
       "      <td>Male</td>\n",
       "      <td>56</td>\n",
       "    </tr>\n",
       "    <tr>\n",
       "      <th>4</th>\n",
       "      <td>European American</td>\n",
       "      <td>Female</td>\n",
       "      <td>128</td>\n",
       "    </tr>\n",
       "    <tr>\n",
       "      <th>5</th>\n",
       "      <td>European American</td>\n",
       "      <td>Male</td>\n",
       "      <td>139</td>\n",
       "    </tr>\n",
       "    <tr>\n",
       "      <th>6</th>\n",
       "      <td>Hispanic American</td>\n",
       "      <td>Female</td>\n",
       "      <td>18</td>\n",
       "    </tr>\n",
       "    <tr>\n",
       "      <th>7</th>\n",
       "      <td>Hispanic American</td>\n",
       "      <td>Male</td>\n",
       "      <td>13</td>\n",
       "    </tr>\n",
       "    <tr>\n",
       "      <th>8</th>\n",
       "      <td>Other</td>\n",
       "      <td>Female</td>\n",
       "      <td>16</td>\n",
       "    </tr>\n",
       "    <tr>\n",
       "      <th>9</th>\n",
       "      <td>Other</td>\n",
       "      <td>Male</td>\n",
       "      <td>13</td>\n",
       "    </tr>\n",
       "  </tbody>\n",
       "</table>\n",
       "</div>"
      ],
      "text/plain": [
       "                race  gender  iid\n",
       "0   African American  Female   13\n",
       "1   African American    Male    9\n",
       "2     Asian American  Female   60\n",
       "3     Asian American    Male   56\n",
       "4  European American  Female  128\n",
       "5  European American    Male  139\n",
       "6  Hispanic American  Female   18\n",
       "7  Hispanic American    Male   13\n",
       "8              Other  Female   16\n",
       "9              Other    Male   13"
      ]
     },
     "execution_count": 15,
     "metadata": {},
     "output_type": "execute_result"
    }
   ],
   "source": [
    "df2 = df.groupby(['race','gender']).iid.nunique().to_frame()\n",
    "df2.reset_index(inplace=True)\n",
    "\n",
    "df2"
   ]
  },
  {
   "cell_type": "code",
   "execution_count": 16,
   "metadata": {
    "collapsed": false
   },
   "outputs": [
    {
     "data": {
      "text/html": [
       "<div>\n",
       "<table border=\"1\" class=\"dataframe\">\n",
       "  <thead>\n",
       "    <tr style=\"text-align: right;\">\n",
       "      <th></th>\n",
       "      <th>Female</th>\n",
       "      <th>Male</th>\n",
       "      <th>race</th>\n",
       "    </tr>\n",
       "  </thead>\n",
       "  <tbody>\n",
       "    <tr>\n",
       "      <th>0</th>\n",
       "      <td>13</td>\n",
       "      <td>9</td>\n",
       "      <td>African American</td>\n",
       "    </tr>\n",
       "    <tr>\n",
       "      <th>1</th>\n",
       "      <td>60</td>\n",
       "      <td>56</td>\n",
       "      <td>Asian American</td>\n",
       "    </tr>\n",
       "    <tr>\n",
       "      <th>2</th>\n",
       "      <td>128</td>\n",
       "      <td>139</td>\n",
       "      <td>European American</td>\n",
       "    </tr>\n",
       "    <tr>\n",
       "      <th>3</th>\n",
       "      <td>18</td>\n",
       "      <td>13</td>\n",
       "      <td>Hispanic American</td>\n",
       "    </tr>\n",
       "    <tr>\n",
       "      <th>4</th>\n",
       "      <td>16</td>\n",
       "      <td>13</td>\n",
       "      <td>Other</td>\n",
       "    </tr>\n",
       "  </tbody>\n",
       "</table>\n",
       "</div>"
      ],
      "text/plain": [
       "   Female  Male               race\n",
       "0      13     9   African American\n",
       "1      60    56     Asian American\n",
       "2     128   139  European American\n",
       "3      18    13  Hispanic American\n",
       "4      16    13              Other"
      ]
     },
     "execution_count": 16,
     "metadata": {},
     "output_type": "execute_result"
    }
   ],
   "source": [
    "df2 = df.groupby(['race','gender']).iid.nunique().to_frame('count')\n",
    "df2.reset_index(inplace=True)\n",
    "\n",
    "df3=pd.pivot_table(df2, index=['race'], columns=['gender'], values=['count'])\n",
    "df3.reset_index(col_level=1,inplace=True, level=0)\n",
    "df3\n",
    "\n",
    "raw_data = {'race': ['African American', 'Asian American', 'European American', 'Hispanic American', 'Other'],  \n",
    "        'Female': [13,60,128,18,16],\n",
    "        'Male': [9,56,139,13,13]}\n",
    "\n",
    "df5 = pd.DataFrame(raw_data)\n",
    "df5"
   ]
  },
  {
   "cell_type": "code",
   "execution_count": 17,
   "metadata": {
    "collapsed": false
   },
   "outputs": [
    {
     "data": {
      "text/html": [
       "<div>\n",
       "<table border=\"1\" class=\"dataframe\">\n",
       "  <thead>\n",
       "    <tr style=\"text-align: right;\">\n",
       "      <th></th>\n",
       "      <th>iid</th>\n",
       "      <th>race</th>\n",
       "      <th>gender</th>\n",
       "      <th>count</th>\n",
       "    </tr>\n",
       "  </thead>\n",
       "  <tbody>\n",
       "    <tr>\n",
       "      <th>0</th>\n",
       "      <td>4</td>\n",
       "      <td>European American</td>\n",
       "      <td>Female</td>\n",
       "      <td>1</td>\n",
       "    </tr>\n",
       "    <tr>\n",
       "      <th>1</th>\n",
       "      <td>5</td>\n",
       "      <td>European American</td>\n",
       "      <td>Female</td>\n",
       "      <td>1</td>\n",
       "    </tr>\n",
       "    <tr>\n",
       "      <th>2</th>\n",
       "      <td>6</td>\n",
       "      <td>Asian American</td>\n",
       "      <td>Female</td>\n",
       "      <td>1</td>\n",
       "    </tr>\n",
       "    <tr>\n",
       "      <th>3</th>\n",
       "      <td>7</td>\n",
       "      <td>Asian American</td>\n",
       "      <td>Female</td>\n",
       "      <td>1</td>\n",
       "    </tr>\n",
       "    <tr>\n",
       "      <th>4</th>\n",
       "      <td>8</td>\n",
       "      <td>European American</td>\n",
       "      <td>Female</td>\n",
       "      <td>1</td>\n",
       "    </tr>\n",
       "  </tbody>\n",
       "</table>\n",
       "</div>"
      ],
      "text/plain": [
       "   iid               race  gender  count\n",
       "0    4  European American  Female      1\n",
       "1    5  European American  Female      1\n",
       "2    6     Asian American  Female      1\n",
       "3    7     Asian American  Female      1\n",
       "4    8  European American  Female      1"
      ]
     },
     "execution_count": 17,
     "metadata": {},
     "output_type": "execute_result"
    }
   ],
   "source": [
    "df2 = df.groupby(['iid','race', 'gender']).iid.nunique().to_frame('count')\n",
    "df2.reset_index(inplace=True)\n",
    "\n",
    "df2.head()\n",
    "\n"
   ]
  },
  {
   "cell_type": "code",
   "execution_count": 24,
   "metadata": {
    "collapsed": false
   },
   "outputs": [
    {
     "data": {
      "image/png": "[encoded data removed]",
      "text/plain": [
       "<matplotlib.figure.Figure at 0x118034f90>"
      ]
     },
     "metadata": {},
     "output_type": "display_data"
    }
   ],
   "source": [
    "# plt.style.use('bmh')\n",
    "plt.style.use('fivethirtyeight')\n",
    "#plt.figure(figsize=(13,7), facecolor='lightgray')\n",
    "plt.figure(figsize=(12,7))\n",
    "#plt.rcParams['axes.facecolor'] = 'lightgray'\n",
    "plt.grid(color='gray', linestyle='--', alpha=.5)\n",
    "plt.title(\"Count of Participants by Race and Gender\",fontsize=22, y=1.02)\n",
    "\n",
    "# start, end = ax.get_xlim()\n",
    "# ax.yaxis.set_ticks(np.arange(start=0, end=150, 1))\n",
    "plt.ylim([0,180])\n",
    "plt.xticks(fontsize=12)\n",
    "plt.xlabel(\"Race\")\n",
    "color = dict(Female=\"darkmagenta\", Male=\"slateblue\")\n",
    "ax=sns.countplot(x=\"race\",hue='gender',data=df2, saturation=10, palette=color,alpha=0.7, order=['European American','Asian American',\\\n",
    "                       'Hispanic American', 'Other', 'African American'])\n",
    "for p in ax.patches:\n",
    "    height = p.get_height()\n",
    "    ax.text(p.get_x()+p.get_width()/2.,\n",
    "            height + 3,\n",
    "            '{:1.0f}'.format(height),\n",
    "            ha=\"center\",fontsize=15)\n",
    "plt.xlabel('')\n",
    "plt.xticks(fontsize=15)\n",
    "plt.yticks(fontsize=14)\n",
    "plt.ylabel('Count', fontsize=20)\n",
    "plt.legend(['Female', 'Male'], loc='upper right', fontsize=15)   \n",
    "plt.show()\n"
   ]
  },
  {
   "cell_type": "code",
   "execution_count": 26,
   "metadata": {
    "collapsed": false
   },
   "outputs": [
    {
     "data": {
      "image/png": "[encoded data removed]",
      "text/plain": [
       "<matplotlib.figure.Figure at 0x1137d7c90>"
      ]
     },
     "metadata": {},
     "output_type": "display_data"
    }
   ],
   "source": [
    "df7=pd.pivot_table(df, index=['gender'], values=['sports','tvsports','exercise','dining','museums','art','hiking','gaming','clubbing','reading',\n",
    "                       'tv','theater','movies','concerts','music','shopping','yoga']).T\n",
    "df7.reset_index(inplace=True)\n",
    "df7\n",
    "\n",
    "plt.style.use('fivethirtyeight')\n",
    "\n",
    "\n",
    "pos = list(range(len(df7['Female'])))\n",
    "width = 0.25\n",
    "\n",
    "\n",
    "#fig, ax = plt.subplots(figsize=(13,7),facecolor='lightgray')\n",
    "\n",
    "fig, ax = plt.subplots(figsize=(13,10))\n",
    "\n",
    "plt.barh(pos,\n",
    "        df7['Female'],\n",
    "        width,\n",
    "        color='darkmagenta',\n",
    "        label=df7['index'][0],alpha=.8)\n",
    "\n",
    "plt.barh([p + width for p in pos],\n",
    "        df7['Male'],\n",
    "        width,\n",
    "        color='slateblue',\n",
    "        label=df7['index'][1],alpha=.8)\n",
    "\n",
    "#ax.set_xlabel('Score')\n",
    " \n",
    "#ax.patch.set_facecolor('lightgray')\n",
    "plt.grid(color='gray', linestyle='--', alpha=.5)\n",
    "         #, axis='x', which='major')\n",
    "\n",
    "ax.set_title('Gender Differences in Fun Activities',y=1.03)\n",
    "\n",
    "ax.set_yticks([p + width for p in pos])\n",
    "\n",
    "ax.set_yticklabels(df7['index'], size =15)\n",
    "ax.yaxis.grid(False)\n",
    "plt.xticks(range(0, 10, 1), size=15)\n",
    "\n",
    "plt.ylim(min(pos)-width, max(pos)+width*4)\n",
    "plt.xlim([0, 10])\n",
    "\n",
    "# start, end = ax.get_xlim()\n",
    "# ax.xaxis.set_ticks(np.arange(start, end, 1))\n",
    "\n",
    "plt.legend(['Female', 'Male'], loc='upper right', fontsize=15)\n",
    "\n",
    "plt.show()"
   ]
  },
  {
   "cell_type": "code",
   "execution_count": 28,
   "metadata": {
    "collapsed": false
   },
   "outputs": [
    {
     "data": {
      "text/html": [
       "<div>\n",
       "<table border=\"1\" class=\"dataframe\">\n",
       "  <thead>\n",
       "    <tr style=\"text-align: right;\">\n",
       "      <th>gender</th>\n",
       "      <th>index</th>\n",
       "      <th>Female</th>\n",
       "      <th>Male</th>\n",
       "    </tr>\n",
       "  </thead>\n",
       "  <tbody>\n",
       "    <tr>\n",
       "      <th>0</th>\n",
       "      <td>amb1_1</td>\n",
       "      <td>13.161587</td>\n",
       "      <td>8.538217</td>\n",
       "    </tr>\n",
       "    <tr>\n",
       "      <th>1</th>\n",
       "      <td>attr1_1</td>\n",
       "      <td>17.801627</td>\n",
       "      <td>26.744092</td>\n",
       "    </tr>\n",
       "    <tr>\n",
       "      <th>2</th>\n",
       "      <td>fun1_1</td>\n",
       "      <td>17.267783</td>\n",
       "      <td>17.799407</td>\n",
       "    </tr>\n",
       "    <tr>\n",
       "      <th>3</th>\n",
       "      <td>intel1_1</td>\n",
       "      <td>21.089130</td>\n",
       "      <td>19.476702</td>\n",
       "    </tr>\n",
       "    <tr>\n",
       "      <th>4</th>\n",
       "      <td>shar1_1</td>\n",
       "      <td>12.704135</td>\n",
       "      <td>10.909385</td>\n",
       "    </tr>\n",
       "    <tr>\n",
       "      <th>5</th>\n",
       "      <td>sinc1_1</td>\n",
       "      <td>17.989396</td>\n",
       "      <td>16.691065</td>\n",
       "    </tr>\n",
       "  </tbody>\n",
       "</table>\n",
       "</div>"
      ],
      "text/plain": [
       "gender     index     Female       Male\n",
       "0         amb1_1  13.161587   8.538217\n",
       "1        attr1_1  17.801627  26.744092\n",
       "2         fun1_1  17.267783  17.799407\n",
       "3       intel1_1  21.089130  19.476702\n",
       "4        shar1_1  12.704135  10.909385\n",
       "5        sinc1_1  17.989396  16.691065"
      ]
     },
     "execution_count": 28,
     "metadata": {},
     "output_type": "execute_result"
    }
   ],
   "source": [
    "df4=pd.pivot_table(df, index=['gender'], values=['attr1_1', 'sinc1_1','intel1_1','fun1_1','amb1_1','shar1_1']).T\n",
    "df4.reset_index(inplace=True)\n",
    "df4"
   ]
  },
  {
   "cell_type": "code",
   "execution_count": 29,
   "metadata": {
    "collapsed": false
   },
   "outputs": [],
   "source": [
    "df4['index']=df4['index'].apply(lambda x: str(x))"
   ]
  },
  {
   "cell_type": "code",
   "execution_count": 30,
   "metadata": {
    "collapsed": false
   },
   "outputs": [],
   "source": [
    "def category(words):\n",
    "        if 'amb1_1' in words:\n",
    "            return 'Ambitious'\n",
    "        elif 'attr1_1' in words:\n",
    "            return 'Attractive'\n",
    "        elif 'fun1_1' in words:\n",
    "            return 'Funny'\n",
    "        elif 'intel1_1' in words:\n",
    "            return 'Intelligent'\n",
    "        elif 'fun1_1' in words:\n",
    "            return 'Fun'\n",
    "        elif 'shar1_1' in words:\n",
    "            return 'Shared Interests'\n",
    "        elif 'sinc1_1' in words:\n",
    "            return 'Sincere'"
   ]
  },
  {
   "cell_type": "code",
   "execution_count": 31,
   "metadata": {
    "collapsed": false
   },
   "outputs": [
    {
     "data": {
      "text/html": [
       "<div>\n",
       "<table border=\"1\" class=\"dataframe\">\n",
       "  <thead>\n",
       "    <tr style=\"text-align: right;\">\n",
       "      <th>gender</th>\n",
       "      <th>index</th>\n",
       "      <th>Female</th>\n",
       "      <th>Male</th>\n",
       "    </tr>\n",
       "  </thead>\n",
       "  <tbody>\n",
       "    <tr>\n",
       "      <th>0</th>\n",
       "      <td>Ambitious</td>\n",
       "      <td>13.161587</td>\n",
       "      <td>8.538217</td>\n",
       "    </tr>\n",
       "    <tr>\n",
       "      <th>1</th>\n",
       "      <td>Attractive</td>\n",
       "      <td>17.801627</td>\n",
       "      <td>26.744092</td>\n",
       "    </tr>\n",
       "    <tr>\n",
       "      <th>2</th>\n",
       "      <td>Funny</td>\n",
       "      <td>17.267783</td>\n",
       "      <td>17.799407</td>\n",
       "    </tr>\n",
       "    <tr>\n",
       "      <th>3</th>\n",
       "      <td>Intelligent</td>\n",
       "      <td>21.089130</td>\n",
       "      <td>19.476702</td>\n",
       "    </tr>\n",
       "    <tr>\n",
       "      <th>4</th>\n",
       "      <td>Shared Interests</td>\n",
       "      <td>12.704135</td>\n",
       "      <td>10.909385</td>\n",
       "    </tr>\n",
       "    <tr>\n",
       "      <th>5</th>\n",
       "      <td>Sincere</td>\n",
       "      <td>17.989396</td>\n",
       "      <td>16.691065</td>\n",
       "    </tr>\n",
       "  </tbody>\n",
       "</table>\n",
       "</div>"
      ],
      "text/plain": [
       "gender             index     Female       Male\n",
       "0              Ambitious  13.161587   8.538217\n",
       "1             Attractive  17.801627  26.744092\n",
       "2                  Funny  17.267783  17.799407\n",
       "3            Intelligent  21.089130  19.476702\n",
       "4       Shared Interests  12.704135  10.909385\n",
       "5                Sincere  17.989396  16.691065"
      ]
     },
     "execution_count": 31,
     "metadata": {},
     "output_type": "execute_result"
    }
   ],
   "source": [
    "\n",
    "df4['index']=df4['index'].map(category)\n",
    "\n",
    "df4"
   ]
  },
  {
   "cell_type": "code",
   "execution_count": 44,
   "metadata": {
    "collapsed": false
   },
   "outputs": [
    {
     "data": {
      "image/png": "[encoded data removed]",
      "text/plain": [
       "<matplotlib.figure.Figure at 0x112d42890>"
      ]
     },
     "metadata": {},
     "output_type": "display_data"
    }
   ],
   "source": [
    "# Setting the positions and width for the bars\n",
    "plt.style.use('fivethirtyeight')\n",
    "# plt.style.use('bmh')\n",
    "\n",
    "\n",
    "pos = list(range(len(df4['Female'])))\n",
    "width = 0.35\n",
    "\n",
    "\n",
    "#fig, ax = plt.subplots(figsize=(13,7),facecolor='lightgray')\n",
    "\n",
    "fig, ax = plt.subplots(figsize=(13,7))\n",
    "\n",
    "plt.bar(pos,\n",
    "        df4['Female'],\n",
    "        width,\n",
    "        color='darkmagenta',\n",
    "        label=df4['index'][0], alpha=.8)\n",
    "\n",
    "plt.bar([p + width for p in pos],\n",
    "        df4['Male'],\n",
    "        width,\n",
    "        color='slateblue',\n",
    "        label=df4['index'][1], alpha=.8)\n",
    "\n",
    "ax.set_ylabel('Importance of Traits', fontsize=19)\n",
    " \n",
    "#ax.patch.set_facecolor('lightgray')\n",
    "plt.grid(color='gray', linestyle='--', alpha=.5)\n",
    "\n",
    "ax.set_title('Bar Chart of Most Valued Traits in Opposite Sex',y=1.03)\n",
    "\n",
    "ax.set_xticks([p + width for p in pos])\n",
    "\n",
    "ax.set_xticklabels(df4['index'], size =15)\n",
    "ax.xaxis.grid(False)\n",
    "plt.yticks(size=17)\n",
    "plt.xticks(size=18)\n",
    "plt.xlim(min(pos)-width, max(pos)+width*4)\n",
    "plt.ylim([0, max(df4['Female'] + df4['Male'])] )\n",
    "\n",
    "plt.legend(['Female', 'Male'], loc='upper right', fontsize=15)\n",
    "\n",
    "plt.show()"
   ]
  },
  {
   "cell_type": "code",
   "execution_count": null,
   "metadata": {
    "collapsed": true
   },
   "outputs": [],
   "source": []
  },
  {
   "cell_type": "code",
   "execution_count": null,
   "metadata": {
    "collapsed": true
   },
   "outputs": [],
   "source": []
  }
 ],
 "metadata": {
  "anaconda-cloud": {},
  "kernelspec": {
   "display_name": "Python [Root]",
   "language": "python",
   "name": "Python [Root]"
  },
  "language_info": {
   "codemirror_mode": {
    "name": "ipython",
    "version": 2
   },
   "file_extension": ".py",
   "mimetype": "text/x-python",
   "name": "python",
   "nbconvert_exporter": "python",
   "pygments_lexer": "ipython2",
   "version": "2.7.12"
  }
 },
 "nbformat": 4,
 "nbformat_minor": 0
}
